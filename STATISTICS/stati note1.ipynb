{
 "cells": [
  {
   "cell_type": "markdown",
   "id": "a069e88b",
   "metadata": {},
   "source": [
    "## The fundamentals of data analysis"
   ]
  },
  {
   "attachments": {
    "da_workflow.PNG": {
     "image/png": "[encoded data removed]"
    }
   },
   "cell_type": "markdown",
   "id": "ff1a5f42",
   "metadata": {},
   "source": [
    "Data analysis is a highly iterative process involving collection, preparation (wrangling),\n",
    "exploratory data analysis (EDA), and drawing conclusions. During an analysis, we\n",
    "will frequently revisit each of these steps. The following diagram depicts a generalized\n",
    "workflow\n",
    "\n",
    "\n",
    "![da_workflow.PNG](attachment:da_workflow.PNG)"
   ]
  },
  {
   "cell_type": "markdown",
   "id": "842a41f5",
   "metadata": {},
   "source": [
    "## Data collection\n",
    "\n",
    "Data collection is the natural first step for any data analysis—we can't analyze data we\n",
    "don't have. In reality, our analysis can begin even before we have the data. When we\n",
    "decide what we want to investigate or analyze, we have to think about what kind of data\n",
    "we can collect that will be useful for our analysis.Data Sources can be anything some of the examples are given below.\n",
    "\n",
    "- Web scraping to extract data from a website's HTML (often with Python packages\n",
    "such as selenium, requests, scrapy, and beautifulsoup)\n",
    "\n",
    "- Application programming interfaces (APIs) for web services from which we\n",
    "can collect data with HTTP requests (perhaps using cURL or the requests\n",
    "Python package)\n",
    "\n",
    "- Databases (data can be extracted with SQL or another database-querying language)\n",
    "\n",
    "- Internet resources that provide data for download, such as government websites\n",
    "or Yahoo! Finance\n",
    "\n",
    "- Log files\n",
    "\n",
    "We are surrounded by data, so the possibilities are limitless. It is important, however,\n",
    "to make sure that we are collecting data that will help us draw conclusions. For example,\n",
    "if we are trying to determine whether hot chocolate sales are higher when the temperature\n",
    "is lower, we should collect data on the amount of hot chocolate sold and the temperatures\n",
    "each day. While it might be interesting to see how far people traveled to get the hot\n",
    "chocolate, it's not relevant to our analysis."
   ]
  },
  {
   "cell_type": "markdown",
   "id": "a85941b2",
   "metadata": {},
   "source": [
    "## Data wrangling\n",
    "\n",
    "Data wrangling is the process of preparing the data and getting it into a format that can\n",
    "be used for analysis. The unfortunate reality of data is that it is often dirty, meaning that\n",
    "it requires cleaning (preparation) before it can be used. The following are some issues we\n",
    "may encounter with our data:\n",
    "\n",
    "- Human errors: Data is recorded (or even collected) incorrectly, such as putting 100\n",
    "instead of 1000, or typos. In addition, there may be multiple versions of the same\n",
    "entry recorded, such as New York City, NYC, and nyc.\n",
    "\n",
    "- Computer error: Perhaps we weren't recording entries for a while (missing data).\n",
    "\n",
    "- Unexpected values: Maybe whoever was recording the data decided to use\n",
    "a question mark for a missing value in a numeric column, so now all the entries\n",
    "in the column will be treated as text instead of numeric values\n",
    "\n",
    "- Incomplete information: Think of a survey with optional questions; not everyone\n",
    "will answer them, so we will have missing data, but not due to computer or\n",
    "human error.\n",
    "\n",
    "- Resolution: The data may have been collected per second, while we need hourly\n",
    "data for our analysis\n",
    "\n",
    "- Relevance of the fields: Often, data is collected or generated as a product of some\n",
    "process rather than explicitly for our analysis. In order to get it to a usable state,\n",
    "we will have to clean it up.\n",
    "\n",
    "- Format of the data: Data may be recorded in a format that isn't conducive to\n",
    "analysis, which will require us to reshape it.\n",
    "\n",
    "- Misconfigurations in the data-recording process: Data coming from sources such\n",
    "as misconfigured trackers and/or webhooks may be missing fields or passed in the\n",
    "wrong order.\n",
    "\n",
    "Most of these data quality issues can be remedied, but some cannot, such as when the\n",
    "data is collected daily and we need it on an hourly resolution. It is our responsibility\n",
    "to carefully examine our data and handle any issues so that our analysis doesn't get\n",
    "distorted"
   ]
  },
  {
   "cell_type": "markdown",
   "id": "e3d001ac",
   "metadata": {},
   "source": [
    "## Exploratory data analysis\n",
    "\n",
    "During EDA, we use visualizations and summary statistics to get a better understanding\n",
    "of the data. Since the human brain excels at picking out visual patterns, data visualization\n",
    "is essential to any analysis. In fact, some characteristics of the data can only be observed\n",
    "in a plot. Depending on our data, we may create plots to see how a variable of interest\n",
    "has evolved over time, compare how many observations belong to each category, find\n",
    "outliers, look at distributions of continuous and discrete variables, and much more\n",
    "\n",
    "\n",
    "`*Important note*\n",
    "Data visualizations are very powerful; unfortunately, they can often be\n",
    "misleading. One common issue stems from the scale of the y-axis because\n",
    "most plotting tools will zoom in by default to show the pattern up close.\n",
    "It would be difficult for software to know what the appropriate axis limits are\n",
    "for every possible plot; therefore, it is our job to properly adjust the axes before\n",
    "presenting our results. You can read about some more ways that plots can\n",
    "be misleading at https://venngage.com/blog/misleadinggraphs/.`\n",
    "\n",
    "In the workflow diagram we saw earlier, EDA and data wrangling shared\n",
    "a box. This is because they are closely tied:\n",
    "\n",
    "- Data needs to be prepped before EDA\n",
    "\n",
    "- Visualizations that are created during EDA may indicate the need for additional\n",
    "data cleaning.\n",
    "- Data wrangling uses summary statistics to look for potential data issues, while\n",
    "EDA uses them to understand the data. Improper cleaning will distort the findings\n",
    "when we're conducting EDA. In addition, data wrangling skills will be required to\n",
    "get summary statistics across subsets of the data.\n",
    "\n",
    "When calculating summary statistics, we must keep the type of data we collected in mind.\n",
    "Data can be quantitative (measurable quantities) or categorical (descriptions, groupings,\n",
    "or categories). Within these classes of data, we have further subdivisions that let us know\n",
    "what types of operations we can perform on them.\n",
    "\n",
    "For example, categorical data can be nominal, where we assign a numeric value to each\n",
    "level of the category, such as on = 1/off = 0. Note that the fact that on is greater than\n",
    "off is meaningless because we arbitrarily chose those numbers to represent the states on\n",
    "and off. When there is a ranking among the categories, they are ordinal, meaning that\n",
    "we can order the levels (for instance, we can have low < medium < high).\n",
    "\n",
    "Quantitative data can use an interval scale or a ratio scale. The interval scale includes\n",
    "things such as temperature. We can measure temperatures in Celsius and compare the\n",
    "temperatures of two cities, but it doesn't mean anything to say one city is twice as hot\n",
    "as the other. Therefore, interval scale values can be meaningfully compared using\n",
    "addition/subtraction, but not multiplication/division. The ratio scale, then, are those\n",
    "values that can be meaningfully compared with ratios (using multiplication and division).\n",
    "Examples of the ratio scale include prices, sizes, and counts."
   ]
  },
  {
   "cell_type": "markdown",
   "id": "bffb7eab",
   "metadata": {},
   "source": [
    "## Drawing conclusions"
   ]
  },
  {
   "cell_type": "markdown",
   "id": "5ada3dd6",
   "metadata": {},
   "source": [
    "After we have collected the data for our analysis, cleaned it up, and performed some\n",
    "thorough EDA, it is time to draw conclusions. This is where we summarize our findings\n",
    "from EDA and decide the next steps:\n",
    "    \n",
    "- Did we notice any patterns or relationships when visualizing the data?\n",
    "- Does it look like we can make accurate predictions from our data? Does it make\n",
    "sense to move to modeling the data?\n",
    "- Should we handle missing data points? How?\n",
    "- How is the data distributed?\n",
    "- Does the data help us answer the questions we have or give insight into the problem\n",
    "we are investigating?\n",
    "- Do we need to collect new or additional data?\n",
    "    "
   ]
  },
  {
   "cell_type": "markdown",
   "id": "ea1c579d",
   "metadata": {},
   "source": [
    "## Statistical foundations"
   ]
  },
  {
   "cell_type": "markdown",
   "id": "40585854",
   "metadata": {},
   "source": [
    "When we want to make observations about the data we are analyzing, we often, if not\n",
    "always, turn to statistics in some fashion. The data we have is referred to as the sample,\n",
    "which was observed from (and is a subset of) the population. Two broad categories\n",
    "of statistics are descriptive and inferential statistics. With descriptive statistics, as the\n",
    "name implies, we are looking to describe the sample. Inferential statistics involves using\n",
    "the sample statistics to infer, or deduce, something about the population, such as the\n",
    "underlying distribution."
   ]
  },
  {
   "cell_type": "markdown",
   "id": "85328e3a",
   "metadata": {},
   "source": [
    "Often, the goal of an analysis is to create a story for the data; unfortunately, it is very easy\n",
    "to misuse statistics. It's the subject of a famous quote:\n",
    "                \"There are three kinds of lies: lies, damned lies, and statistics.\"\n",
    "                                                            — Benjamin Disraeli                                                                                                              "
   ]
  },
  {
   "cell_type": "markdown",
   "id": "76737536",
   "metadata": {},
   "source": [
    "## Sampling\n",
    "\n",
    "There's an important thing to remember before we attempt any analysis: our sample must\n",
    "be a random sample that is representative of the population. This means that the data\n",
    "must be sampled without bias (for example, if we are asking people whether they like\n",
    "a certain sports team, we can't only ask fans of the team) and that we should have (ideally)\n",
    "members of all distinct groups from the population in our sample (in the sports team\n",
    "example, we can't just ask men).\n",
    "\n",
    "We will need to sample our data, which will be a sample to begin with. This\n",
    "is called resampling. Depending on the data, we will have to pick a different method\n",
    "of sampling. Often, our best bet is a simple random sample: we use a random number\n",
    "generator to pick rows at random. When we have distinct groups in the data, we want\n",
    "our sample to be a stratified random sample, which will preserve the proportion of the\n",
    "groups in the data. In some cases, we don't have enough data for the aforementioned\n",
    "sampling strategies, so we may turn to random sampling with replacement\n",
    "(bootstrapping); this is called a bootstrap sample. Note that our underlying sample\n",
    "needs to have been a random sample or we risk increasing the bias of the estimator\n",
    "(we could pick certain rows more often because they are in the data more often if it was\n",
    "a convenience sample, while in the true population these rows aren't as prevalent)."
   ]
  },
  {
   "cell_type": "markdown",
   "id": "396647e7",
   "metadata": {},
   "source": [
    "### Descriptive and Inferencial Statistics"
   ]
  },
  {
   "cell_type": "markdown",
   "id": "4b413cba",
   "metadata": {},
   "source": [
    "## Descriptive statistics\n",
    "\n",
    "We will begin our discussion of descriptive statistics with univariate statistics; univariate\n",
    "simply means that these statistics are calculated from one (uni) variable. Everything in\n",
    "this section can be extended to the whole dataset, but the statistics will be calculated per\n",
    "variable we are recording (meaning that if we had 100 observations of speed and distance\n",
    "pairs, we could calculate the averages across the dataset, which would give us the average\n",
    "speed and average distance statistics)\n",
    "\n",
    "Descriptive statistics are used to describe and/or summarize the data we are working\n",
    "with. We can start our summarization of the data with a measure of central tendency,\n",
    "which describes where most of the data is centered around, and a measure of spread or\n",
    "dispersion, which indicates how far apart values are."
   ]
  },
  {
   "cell_type": "markdown",
   "id": "cff6a3ec",
   "metadata": {},
   "source": [
    "## Measures of central tendency\n",
    "\n",
    "Measures of central tendency describe the center of our distribution of data. There are\n",
    "three common statistics that are used as measures of center: mean, median, and mode.\n",
    "Each has its own strengths, depending on the data we are working with.\n",
    "\n",
    "### Mean\n",
    "\n",
    "Perhaps the most common statistic for summarizing data is the average, or mean. The\n",
    "population mean is denoted by μ (the Greek letter mu), and the sample mean is written\n",
    "as $\\bar x$  (pronounced X-bar). The sample mean is calculated by summing all the values and\n",
    "dividing by the count of values; for example, the mean of the numbers 0, 1, 1, 2, and 9\n",
    "is 2.6 ((0 + 1 + 1 + 2 + 9)/5):\n",
    "                        ![mean.PNG](attachment:mean.PNG)\n",
    "\n",
    "We use xi to represent the ith observation of the variable X. Note how the variable as\n",
    "a whole is represented with a capital letter, while the specific observation is lowercase.\n",
    "Σ (the Greek capital letter sigma) is used to represent a summation, which, in the equation\n",
    "for the mean, goes from 1 to n, which is the number of observations.\n",
    "\n",
    "One important thing to note about the mean is that it is very sensitive to outliers\n",
    "(values created by a different generative process than our distribution). In the previous\n",
    "example, we were dealing with only five values; nevertheless, the 9 is much larger than the\n",
    "other numbers and pulled the mean higher than all but the 9. In cases where we suspect\n",
    "outliers to be present in our data, we may want to instead use the median as our measure\n",
    "of central tendency.\n",
    "\n",
    "### Median\n",
    "\n",
    "Unlike the mean, the median is robust to outliers. Consider income in the US; the top\n",
    "1% is much higher than the rest of the population, so this will skew the mean to be\n",
    "higher and distort the perception of the average person's income. However, the median\n",
    "will be more representative of the average income because it is the 50th percentile of our\n",
    "data; this means that 50% of the values are greater than the median and 50% are less than\n",
    "the median.\n",
    "\n",
    "`The ith percentile is the value at which i% of the observations are less than\n",
    "that value, so the 99th percentile is the value in X where 99% of the x's are less\n",
    "than it.`\n",
    "\n",
    "The median is calculated by taking the middle value from an ordered list of values; in\n",
    "cases where we have an even number of values, we take the mean of the middle two\n",
    "values. If we take the numbers 0, 1, 1, 2, and 9 again, our median is 1. Notice that the\n",
    "mean and median for this dataset are different; however, depending on the distribution\n",
    "of the data, they may be the same.\n",
    "\n",
    "### Mode\n",
    "\n",
    "The mode is the most common value in the data (if we, once again, have the numbers\n",
    "0, 1, 1, 2, and 9, then 1 is the mode). In practice, we will often hear things such as the\n",
    "distribution is bimodal or multimodal (as opposed to unimodal) in cases where the\n",
    "distribution has two or more most popular values. This doesn't necessarily mean that\n",
    "each of them occurred the same amount of times, but rather, they are more common than\n",
    "the other values by a significant amount. As shown in the following plots, a unimodal\n",
    "distribution has only one mode (at 0), a bimodal distribution has two (at -2 and 3), and\n",
    "a multimodal distribution has many (at -2, 0.4, and 3):\n"
   ]
  },
  {
   "attachments": {
    "mode_of_models.PNG": {
     "image/png": "[encoded data removed]"
    }
   },
   "cell_type": "markdown",
   "id": "c75e0bf5",
   "metadata": {},
   "source": [
    "\n",
    "\n",
    "![mode_of_models.PNG](attachment:mode_of_models.PNG)\n",
    "--------------------------------------- Visualizing the mode with continuous data\n",
    "\n",
    "\n",
    "Understanding the concept of the mode comes in handy when describing continuous\n",
    "distributions; however, most of the time when we're describing our continuous data,\n",
    "we will use either the mean or the median as our measure of central tendency. When\n",
    "working with categorical data, on the other hand, we will typically use the mode."
   ]
  },
  {
   "attachments": {
    "variance.PNG": {
     "image/png": "[encoded data removed]"
    }
   },
   "cell_type": "markdown",
   "id": "6ecb2dc6",
   "metadata": {},
   "source": [
    "## Measures of spread\n",
    "\n",
    "Knowing where the center of the distribution is only gets us partially to being able to\n",
    "summarize the distribution of our data—we need to know how values fall around the\n",
    "center and how far apart they are. Measures of spread tell us how the data is dispersed;\n",
    "this will indicate how thin (low dispersion) or wide (very spread out) our distribution\n",
    "is. As with measures of central tendency, we have several ways to describe the spread\n",
    "of a distribution, and which one we choose will depend on the situation and the data.\n",
    "\n",
    "### Range\n",
    "\n",
    "The range is the distance between the smallest value (minimum) and the largest value\n",
    "(maximum). The units of the range will be the same units as our data. Therefore, unless\n",
    "two distributions of data are in the same units and measuring the same thing, we can't\n",
    "compare their ranges and say one is more dispersed than the other:\n",
    "\n",
    "Just from the definition of the range, we can see why it wouldn't always be the best way to\n",
    "measure the spread of our data. It gives us upper and lower bounds on what we have in\n",
    "the data; however, if we have any outliers in our data, the range will be rendered useless.\n",
    "Another problem with the range is that it doesn't tell us how the data is dispersed around\n",
    "its center; it really only tells us how dispersed the entire dataset is. This brings us to the\n",
    "variance.\n",
    "\n",
    "### Variance\n",
    "The variance describes how far apart observations are spread out from their average value\n",
    "(the mean). The population variance is denoted as σ2 (pronounced sigma-squared), and\n",
    "the sample variance is written as s2. It is calculated as the average squared distance from\n",
    "the mean. Note that the distances must be squared so that distances below the mean don't\n",
    "cancel out those above the mean.\n",
    "\n",
    "If we want the sample variance to be an unbiased estimator of the population variance,\n",
    "we divide by n - 1 instead of n to account for using the sample mean instead of the\n",
    "population mean; this is called Bessel's correction (https://en.wikipedia.org/\n",
    "wiki/Bessel%27s_correction). Most statistical tools will give us the sample\n",
    "variance by default, since it is very rare that we would have data for the entire population\n",
    "![variance.PNG](attachment:variance.PNG)\n",
    "The variance gives us a statistic with squared units. This means that if we started with\n",
    "data on income in dollars, then our variance would be in dollars squared ($2). This\n",
    "isn't really useful when we're trying to see how this describes the data; we can use the\n",
    "magnitude (size) itself to see how spread out something is (large values = large spread),\n",
    "but beyond that, we need a measure of spread with units that are the same as our data.\n",
    "For this purpose, we use the standard deviation"
   ]
  },
  {
   "cell_type": "markdown",
   "id": "c6e415ea",
   "metadata": {},
   "source": [
    "## Range:\n",
    "    - To find the dispersion of a feature\n",
    "    - returns a single metric\n",
    "    - It will not tell you how far our data from the mean instead it will tell you the total dispersion\n",
    "    - It is not possible to so make comparison with two ranges if it is not in same unit.\n",
    "    - max - min\n",
    "## Variance:\n",
    "    - To find the dispersion of a feature from the mean\n",
    "    - returns a single value\n",
    "    - it will tell you how far our data points from the mean.\n",
    "    - It is not possible to so make comparison with two ranges if it is not in same unit, since we are taking the squared difference, we will not able to interpret by the same unit\n",
    "    - equation\n",
    "## Standard Deviation:\n",
    "    - To find the dispersion of a feature from the mean\n",
    "    - returns a single value\n",
    "    - it will tell you how far our data points from the mean.\n",
    "    - It is not possible to so make comparison with two ranges if it is not in same unit.\n",
    "    - since we are taking the square root of variance we can interpret std by the same unit of the feature.\n",
    "\n",
    "## Coefficient of Variation(CV):\n",
    "    - Since it is unitless we can use it for comparing two features\n",
    "    - It is the ratio of the standard deviation to the mean"
   ]
  },
  {
   "attachments": {
    "stad_deviation_demo.PNG": {
     "image/png": "[encoded data removed]"
    }
   },
   "cell_type": "markdown",
   "id": "7ed97dc4",
   "metadata": {},
   "source": [
    "### Standard deviation\n",
    "\n",
    "We can use the standard deviation to see how far from the mean data points are on\n",
    "average. A small standard deviation means that values are close to the mean, while\n",
    "a large standard deviation means that values are dispersed more widely. This is tied to\n",
    "how we would imagine the distribution curve: the smaller the standard deviation, the\n",
    "thinner the peak of the curve (0.5); the larger the standard deviation, the wider the peak\n",
    "of the curve (2).\n",
    "\n",
    "![stad_deviation_demo.PNG](attachment:stad_deviation_demo.PNG)\n",
    "----------------------------Using standard deviation to quantify the spread of a distribution"
   ]
  },
  {
   "attachments": {
    "std_dev_eqn.PNG": {
     "image/png": "[encoded data removed]"
    }
   },
   "cell_type": "markdown",
   "id": "40da26d2",
   "metadata": {},
   "source": [
    "The standard deviation is simply the square root of the variance. By performing this\n",
    "operation, we get a statistic in units that we can make sense of again ($ for our income\n",
    "example)\n",
    "![std_dev_eqn.PNG](attachment:std_dev_eqn.PNG)\n",
    "The population standard deviation is represented as σ, and the sample standard\n",
    "deviation is denoted as s."
   ]
  },
  {
   "attachments": {
    "coefficient_of_variation.PNG": {
     "image/png": "[encoded data removed]"
    }
   },
   "cell_type": "markdown",
   "id": "346c6b57",
   "metadata": {},
   "source": [
    "## Coefficient of variation\n",
    "When we moved from variance to standard deviation, we were looking to get to units that\n",
    "made sense; however, if we then want to compare the level of dispersion of one dataset\n",
    "to another, we would need to have the same units once again. One way around this is to\n",
    "calculate the coefficient of variation (CV), which is unitless. The CV is the ratio of the\n",
    "standard deviation to the mean.\n",
    "![coefficient_of_variation.PNG](attachment:coefficient_of_variation.PNG)\n",
    "\n",
    "\n",
    "\n"
   ]
  },
  {
   "attachments": {
    "iqr.PNG": {
     "image/png": "[encoded data removed]"
    }
   },
   "cell_type": "markdown",
   "id": "8d5dbe53",
   "metadata": {},
   "source": [
    "## Interquartile range(IQR)\n",
    "\n",
    "So far, other than the range, we have discussed mean-based measures of dispersion; now,\n",
    "we will look at how we can describe the spread with the median as our measure of central\n",
    "tendency. As mentioned earlier, the median is the 50th percentile or the 2nd quartile (Q2).\n",
    "Percentiles and quartiles are both quantiles—values that divide data into equal groups\n",
    "each containing the same percentage of the total data. Percentiles divide the data into 100\n",
    "parts, while quartiles do so into four (25%, 50%, 75%, and 100%).\n",
    "\n",
    "Since quantiles neatly divide up our data, and we know how much of the data goes in\n",
    "each section, they are a perfect candidate for helping us quantify the spread of our data.\n",
    "One common measure for this is the interquartile range (IQR), which is the distance\n",
    "between the 3rd and 1st quartiles.\n",
    "![iqr.PNG](attachment:iqr.PNG)\n",
    "\n",
    "The IQR gives us the spread of data around the median and quantifies how much\n",
    "dispersion we have in the middle 50% of our distribution. It can also be useful when\n",
    "checking the data for outliers. In addition, the IQR can be used to calculate a unitless measure of dispersion,\n",
    "which we will discuss next."
   ]
  },
  {
   "attachments": {
    "QCD.PNG": {
     "image/png": "[encoded data removed]"
    }
   },
   "cell_type": "markdown",
   "id": "ff6ac09a",
   "metadata": {},
   "source": [
    "### Quartile coefficient of dispersion\n",
    "\n",
    "Just like we had the coefficient of variation when using the mean as our measure of\n",
    "central tendency, we have the quartile coefficient of dispersion when using the median\n",
    "as our measure of center. This statistic is also unitless, so it can be used to compare\n",
    "datasets. It is calculated by dividing the semi-quartile range (half the IQR) by the\n",
    "midhinge (midpoint between the first and third quartiles):\n",
    "\n",
    "![QCD.PNG](attachment:QCD.PNG)\n",
    "\n",
    "Now let's take a look at how we can use\n",
    "measures of central tendency and dispersion to summarize our data."
   ]
  },
  {
   "cell_type": "code",
   "execution_count": 3,
   "id": "35ae9c26",
   "metadata": {},
   "outputs": [],
   "source": [
    "import pandas as pd\n",
    "import numpy as np"
   ]
  },
  {
   "cell_type": "code",
   "execution_count": 4,
   "id": "4f4cd3c2",
   "metadata": {},
   "outputs": [],
   "source": [
    "data = pd.read_csv('Bank_Customer_Churn_Prediction.csv')"
   ]
  },
  {
   "cell_type": "code",
   "execution_count": 5,
   "id": "95dc8726",
   "metadata": {},
   "outputs": [
    {
     "data": {
      "text/html": [
       "<div>\n",
       "<style scoped>\n",
       "    .dataframe tbody tr th:only-of-type {\n",
       "        vertical-align: middle;\n",
       "    }\n",
       "\n",
       "    .dataframe tbody tr th {\n",
       "        vertical-align: top;\n",
       "    }\n",
       "\n",
       "    .dataframe thead th {\n",
       "        text-align: right;\n",
       "    }\n",
       "</style>\n",
       "<table border=\"1\" class=\"dataframe\">\n",
       "  <thead>\n",
       "    <tr style=\"text-align: right;\">\n",
       "      <th></th>\n",
       "      <th>customer_id</th>\n",
       "      <th>credit_score</th>\n",
       "      <th>country</th>\n",
       "      <th>gender</th>\n",
       "      <th>age</th>\n",
       "      <th>tenure</th>\n",
       "      <th>balance</th>\n",
       "      <th>products_number</th>\n",
       "      <th>credit_card</th>\n",
       "      <th>active_member</th>\n",
       "      <th>estimated_salary</th>\n",
       "      <th>churn</th>\n",
       "    </tr>\n",
       "  </thead>\n",
       "  <tbody>\n",
       "    <tr>\n",
       "      <th>0</th>\n",
       "      <td>15634602</td>\n",
       "      <td>619</td>\n",
       "      <td>France</td>\n",
       "      <td>Female</td>\n",
       "      <td>42</td>\n",
       "      <td>2</td>\n",
       "      <td>0.00</td>\n",
       "      <td>1</td>\n",
       "      <td>1</td>\n",
       "      <td>1</td>\n",
       "      <td>101348.88</td>\n",
       "      <td>1</td>\n",
       "    </tr>\n",
       "    <tr>\n",
       "      <th>1</th>\n",
       "      <td>15647311</td>\n",
       "      <td>608</td>\n",
       "      <td>Spain</td>\n",
       "      <td>Female</td>\n",
       "      <td>41</td>\n",
       "      <td>1</td>\n",
       "      <td>83807.86</td>\n",
       "      <td>1</td>\n",
       "      <td>0</td>\n",
       "      <td>1</td>\n",
       "      <td>112542.58</td>\n",
       "      <td>0</td>\n",
       "    </tr>\n",
       "    <tr>\n",
       "      <th>2</th>\n",
       "      <td>15619304</td>\n",
       "      <td>502</td>\n",
       "      <td>France</td>\n",
       "      <td>Female</td>\n",
       "      <td>42</td>\n",
       "      <td>8</td>\n",
       "      <td>159660.80</td>\n",
       "      <td>3</td>\n",
       "      <td>1</td>\n",
       "      <td>0</td>\n",
       "      <td>113931.57</td>\n",
       "      <td>1</td>\n",
       "    </tr>\n",
       "    <tr>\n",
       "      <th>3</th>\n",
       "      <td>15701354</td>\n",
       "      <td>699</td>\n",
       "      <td>France</td>\n",
       "      <td>Female</td>\n",
       "      <td>39</td>\n",
       "      <td>1</td>\n",
       "      <td>0.00</td>\n",
       "      <td>2</td>\n",
       "      <td>0</td>\n",
       "      <td>0</td>\n",
       "      <td>93826.63</td>\n",
       "      <td>0</td>\n",
       "    </tr>\n",
       "    <tr>\n",
       "      <th>4</th>\n",
       "      <td>15737888</td>\n",
       "      <td>850</td>\n",
       "      <td>Spain</td>\n",
       "      <td>Female</td>\n",
       "      <td>43</td>\n",
       "      <td>2</td>\n",
       "      <td>125510.82</td>\n",
       "      <td>1</td>\n",
       "      <td>1</td>\n",
       "      <td>1</td>\n",
       "      <td>79084.10</td>\n",
       "      <td>0</td>\n",
       "    </tr>\n",
       "  </tbody>\n",
       "</table>\n",
       "</div>"
      ],
      "text/plain": [
       "   customer_id  credit_score country  gender  age  tenure    balance  \\\n",
       "0     15634602           619  France  Female   42       2       0.00   \n",
       "1     15647311           608   Spain  Female   41       1   83807.86   \n",
       "2     15619304           502  France  Female   42       8  159660.80   \n",
       "3     15701354           699  France  Female   39       1       0.00   \n",
       "4     15737888           850   Spain  Female   43       2  125510.82   \n",
       "\n",
       "   products_number  credit_card  active_member  estimated_salary  churn  \n",
       "0                1            1              1         101348.88      1  \n",
       "1                1            0              1         112542.58      0  \n",
       "2                3            1              0         113931.57      1  \n",
       "3                2            0              0          93826.63      0  \n",
       "4                1            1              1          79084.10      0  "
      ]
     },
     "execution_count": 5,
     "metadata": {},
     "output_type": "execute_result"
    }
   ],
   "source": [
    "data.head()"
   ]
  },
  {
   "cell_type": "code",
   "execution_count": 6,
   "id": "e6c2fd8e",
   "metadata": {},
   "outputs": [
    {
     "data": {
      "text/plain": [
       "customer_id           int64\n",
       "credit_score          int64\n",
       "country              object\n",
       "gender               object\n",
       "age                   int64\n",
       "tenure                int64\n",
       "balance             float64\n",
       "products_number       int64\n",
       "credit_card           int64\n",
       "active_member         int64\n",
       "estimated_salary    float64\n",
       "churn                 int64\n",
       "dtype: object"
      ]
     },
     "execution_count": 6,
     "metadata": {},
     "output_type": "execute_result"
    }
   ],
   "source": [
    "data.dtypes"
   ]
  },
  {
   "cell_type": "code",
   "execution_count": 7,
   "id": "e36d61a9",
   "metadata": {},
   "outputs": [
    {
     "data": {
      "text/plain": [
       "customer_id         0\n",
       "credit_score        0\n",
       "country             0\n",
       "gender              0\n",
       "age                 0\n",
       "tenure              0\n",
       "balance             0\n",
       "products_number     0\n",
       "credit_card         0\n",
       "active_member       0\n",
       "estimated_salary    0\n",
       "churn               0\n",
       "dtype: int64"
      ]
     },
     "execution_count": 7,
     "metadata": {},
     "output_type": "execute_result"
    }
   ],
   "source": [
    "data.isnull().sum()"
   ]
  },
  {
   "cell_type": "code",
   "execution_count": 61,
   "id": "0c7b7be3",
   "metadata": {},
   "outputs": [],
   "source": [
    "data2 = pd.read_excel('nasa2.xlsx')"
   ]
  },
  {
   "cell_type": "code",
   "execution_count": 62,
   "id": "6a032e2f",
   "metadata": {},
   "outputs": [
    {
     "data": {
      "text/html": [
       "<div>\n",
       "<style scoped>\n",
       "    .dataframe tbody tr th:only-of-type {\n",
       "        vertical-align: middle;\n",
       "    }\n",
       "\n",
       "    .dataframe tbody tr th {\n",
       "        vertical-align: top;\n",
       "    }\n",
       "\n",
       "    .dataframe thead th {\n",
       "        text-align: right;\n",
       "    }\n",
       "</style>\n",
       "<table border=\"1\" class=\"dataframe\">\n",
       "  <thead>\n",
       "    <tr style=\"text-align: right;\">\n",
       "      <th></th>\n",
       "      <th>loc</th>\n",
       "      <th>v(g)</th>\n",
       "      <th>ev(g)</th>\n",
       "      <th>iv(g)</th>\n",
       "      <th>n</th>\n",
       "      <th>v</th>\n",
       "      <th>l</th>\n",
       "      <th>d</th>\n",
       "      <th>i</th>\n",
       "      <th>e</th>\n",
       "      <th>...</th>\n",
       "      <th>lOCode</th>\n",
       "      <th>lOComment</th>\n",
       "      <th>lOBlank</th>\n",
       "      <th>locCodeAndComment</th>\n",
       "      <th>uniq_Op</th>\n",
       "      <th>uniq_Opnd</th>\n",
       "      <th>total_Op</th>\n",
       "      <th>total_Opnd</th>\n",
       "      <th>branchCount</th>\n",
       "      <th>defects</th>\n",
       "    </tr>\n",
       "  </thead>\n",
       "  <tbody>\n",
       "    <tr>\n",
       "      <th>0</th>\n",
       "      <td>1.1</td>\n",
       "      <td>1.4</td>\n",
       "      <td>1.4</td>\n",
       "      <td>1.4</td>\n",
       "      <td>1.3</td>\n",
       "      <td>1.30</td>\n",
       "      <td>1.30</td>\n",
       "      <td>1.30</td>\n",
       "      <td>1.30</td>\n",
       "      <td>1.30</td>\n",
       "      <td>...</td>\n",
       "      <td>2</td>\n",
       "      <td>2</td>\n",
       "      <td>2</td>\n",
       "      <td>2</td>\n",
       "      <td>1.2</td>\n",
       "      <td>1.2</td>\n",
       "      <td>1.2</td>\n",
       "      <td>1.2</td>\n",
       "      <td>1.4</td>\n",
       "      <td>False</td>\n",
       "    </tr>\n",
       "    <tr>\n",
       "      <th>1</th>\n",
       "      <td>1.0</td>\n",
       "      <td>1.0</td>\n",
       "      <td>1.0</td>\n",
       "      <td>1.0</td>\n",
       "      <td>1.0</td>\n",
       "      <td>1.00</td>\n",
       "      <td>1.00</td>\n",
       "      <td>1.00</td>\n",
       "      <td>1.00</td>\n",
       "      <td>1.00</td>\n",
       "      <td>...</td>\n",
       "      <td>1</td>\n",
       "      <td>1</td>\n",
       "      <td>1</td>\n",
       "      <td>1</td>\n",
       "      <td>1</td>\n",
       "      <td>1</td>\n",
       "      <td>1</td>\n",
       "      <td>1</td>\n",
       "      <td>1</td>\n",
       "      <td>True</td>\n",
       "    </tr>\n",
       "    <tr>\n",
       "      <th>2</th>\n",
       "      <td>72.0</td>\n",
       "      <td>7.0</td>\n",
       "      <td>1.0</td>\n",
       "      <td>6.0</td>\n",
       "      <td>198.0</td>\n",
       "      <td>1134.13</td>\n",
       "      <td>0.05</td>\n",
       "      <td>20.31</td>\n",
       "      <td>55.85</td>\n",
       "      <td>23029.10</td>\n",
       "      <td>...</td>\n",
       "      <td>51</td>\n",
       "      <td>10</td>\n",
       "      <td>8</td>\n",
       "      <td>1</td>\n",
       "      <td>17</td>\n",
       "      <td>36</td>\n",
       "      <td>112</td>\n",
       "      <td>86</td>\n",
       "      <td>13</td>\n",
       "      <td>True</td>\n",
       "    </tr>\n",
       "    <tr>\n",
       "      <th>3</th>\n",
       "      <td>190.0</td>\n",
       "      <td>3.0</td>\n",
       "      <td>1.0</td>\n",
       "      <td>3.0</td>\n",
       "      <td>600.0</td>\n",
       "      <td>4348.76</td>\n",
       "      <td>0.06</td>\n",
       "      <td>17.06</td>\n",
       "      <td>254.87</td>\n",
       "      <td>74202.67</td>\n",
       "      <td>...</td>\n",
       "      <td>129</td>\n",
       "      <td>29</td>\n",
       "      <td>28</td>\n",
       "      <td>2</td>\n",
       "      <td>17</td>\n",
       "      <td>135</td>\n",
       "      <td>329</td>\n",
       "      <td>271</td>\n",
       "      <td>5</td>\n",
       "      <td>True</td>\n",
       "    </tr>\n",
       "    <tr>\n",
       "      <th>4</th>\n",
       "      <td>37.0</td>\n",
       "      <td>4.0</td>\n",
       "      <td>1.0</td>\n",
       "      <td>4.0</td>\n",
       "      <td>126.0</td>\n",
       "      <td>599.12</td>\n",
       "      <td>0.06</td>\n",
       "      <td>17.19</td>\n",
       "      <td>34.86</td>\n",
       "      <td>10297.30</td>\n",
       "      <td>...</td>\n",
       "      <td>28</td>\n",
       "      <td>1</td>\n",
       "      <td>6</td>\n",
       "      <td>0</td>\n",
       "      <td>11</td>\n",
       "      <td>16</td>\n",
       "      <td>76</td>\n",
       "      <td>50</td>\n",
       "      <td>7</td>\n",
       "      <td>True</td>\n",
       "    </tr>\n",
       "  </tbody>\n",
       "</table>\n",
       "<p>5 rows × 22 columns</p>\n",
       "</div>"
      ],
      "text/plain": [
       "     loc  v(g)  ev(g)  iv(g)      n        v     l      d       i         e  \\\n",
       "0    1.1   1.4    1.4    1.4    1.3     1.30  1.30   1.30    1.30      1.30   \n",
       "1    1.0   1.0    1.0    1.0    1.0     1.00  1.00   1.00    1.00      1.00   \n",
       "2   72.0   7.0    1.0    6.0  198.0  1134.13  0.05  20.31   55.85  23029.10   \n",
       "3  190.0   3.0    1.0    3.0  600.0  4348.76  0.06  17.06  254.87  74202.67   \n",
       "4   37.0   4.0    1.0    4.0  126.0   599.12  0.06  17.19   34.86  10297.30   \n",
       "\n",
       "   ...  lOCode  lOComment  lOBlank  locCodeAndComment  uniq_Op  uniq_Opnd  \\\n",
       "0  ...       2          2        2                  2      1.2        1.2   \n",
       "1  ...       1          1        1                  1        1          1   \n",
       "2  ...      51         10        8                  1       17         36   \n",
       "3  ...     129         29       28                  2       17        135   \n",
       "4  ...      28          1        6                  0       11         16   \n",
       "\n",
       "  total_Op total_Opnd branchCount defects  \n",
       "0      1.2        1.2         1.4   False  \n",
       "1        1          1           1    True  \n",
       "2      112         86          13    True  \n",
       "3      329        271           5    True  \n",
       "4       76         50           7    True  \n",
       "\n",
       "[5 rows x 22 columns]"
      ]
     },
     "execution_count": 62,
     "metadata": {},
     "output_type": "execute_result"
    }
   ],
   "source": [
    "data2.head()"
   ]
  },
  {
   "cell_type": "code",
   "execution_count": 63,
   "id": "a62f8b6b",
   "metadata": {},
   "outputs": [
    {
     "data": {
      "text/plain": [
       "loc                  float64\n",
       "v(g)                 float64\n",
       "ev(g)                float64\n",
       "iv(g)                float64\n",
       "n                    float64\n",
       "v                    float64\n",
       "l                    float64\n",
       "d                    float64\n",
       "i                    float64\n",
       "e                    float64\n",
       "b                    float64\n",
       "t                    float64\n",
       "lOCode                 int64\n",
       "lOComment              int64\n",
       "lOBlank                int64\n",
       "locCodeAndComment      int64\n",
       "uniq_Op               object\n",
       "uniq_Opnd             object\n",
       "total_Op              object\n",
       "total_Opnd            object\n",
       "branchCount           object\n",
       "defects                 bool\n",
       "dtype: object"
      ]
     },
     "execution_count": 63,
     "metadata": {},
     "output_type": "execute_result"
    }
   ],
   "source": [
    "data2.dtypes"
   ]
  },
  {
   "cell_type": "code",
   "execution_count": 64,
   "id": "da66550a",
   "metadata": {},
   "outputs": [
    {
     "data": {
      "text/plain": [
       "loc                  0\n",
       "v(g)                 0\n",
       "ev(g)                0\n",
       "iv(g)                0\n",
       "n                    0\n",
       "v                    0\n",
       "l                    0\n",
       "d                    0\n",
       "i                    0\n",
       "e                    0\n",
       "b                    0\n",
       "t                    0\n",
       "lOCode               0\n",
       "lOComment            0\n",
       "lOBlank              0\n",
       "locCodeAndComment    0\n",
       "uniq_Op              0\n",
       "uniq_Opnd            0\n",
       "total_Op             0\n",
       "total_Opnd           0\n",
       "branchCount          0\n",
       "defects              0\n",
       "dtype: int64"
      ]
     },
     "execution_count": 64,
     "metadata": {},
     "output_type": "execute_result"
    }
   ],
   "source": [
    "data2.isnull().sum()"
   ]
  },
  {
   "cell_type": "code",
   "execution_count": 65,
   "id": "dcd3c0fe",
   "metadata": {},
   "outputs": [],
   "source": [
    "features_to_explore = data2.loc[:,data2.dtypes==\"O\"]"
   ]
  },
  {
   "cell_type": "code",
   "execution_count": 66,
   "id": "5412d109",
   "metadata": {},
   "outputs": [
    {
     "data": {
      "text/html": [
       "<div>\n",
       "<style scoped>\n",
       "    .dataframe tbody tr th:only-of-type {\n",
       "        vertical-align: middle;\n",
       "    }\n",
       "\n",
       "    .dataframe tbody tr th {\n",
       "        vertical-align: top;\n",
       "    }\n",
       "\n",
       "    .dataframe thead th {\n",
       "        text-align: right;\n",
       "    }\n",
       "</style>\n",
       "<table border=\"1\" class=\"dataframe\">\n",
       "  <thead>\n",
       "    <tr style=\"text-align: right;\">\n",
       "      <th></th>\n",
       "      <th>uniq_Op</th>\n",
       "      <th>uniq_Opnd</th>\n",
       "      <th>total_Op</th>\n",
       "      <th>total_Opnd</th>\n",
       "      <th>branchCount</th>\n",
       "    </tr>\n",
       "  </thead>\n",
       "  <tbody>\n",
       "    <tr>\n",
       "      <th>0</th>\n",
       "      <td>1.2</td>\n",
       "      <td>1.2</td>\n",
       "      <td>1.2</td>\n",
       "      <td>1.2</td>\n",
       "      <td>1.4</td>\n",
       "    </tr>\n",
       "    <tr>\n",
       "      <th>1</th>\n",
       "      <td>1</td>\n",
       "      <td>1</td>\n",
       "      <td>1</td>\n",
       "      <td>1</td>\n",
       "      <td>1</td>\n",
       "    </tr>\n",
       "    <tr>\n",
       "      <th>2</th>\n",
       "      <td>17</td>\n",
       "      <td>36</td>\n",
       "      <td>112</td>\n",
       "      <td>86</td>\n",
       "      <td>13</td>\n",
       "    </tr>\n",
       "    <tr>\n",
       "      <th>3</th>\n",
       "      <td>17</td>\n",
       "      <td>135</td>\n",
       "      <td>329</td>\n",
       "      <td>271</td>\n",
       "      <td>5</td>\n",
       "    </tr>\n",
       "    <tr>\n",
       "      <th>4</th>\n",
       "      <td>11</td>\n",
       "      <td>16</td>\n",
       "      <td>76</td>\n",
       "      <td>50</td>\n",
       "      <td>7</td>\n",
       "    </tr>\n",
       "    <tr>\n",
       "      <th>...</th>\n",
       "      <td>...</td>\n",
       "      <td>...</td>\n",
       "      <td>...</td>\n",
       "      <td>...</td>\n",
       "      <td>...</td>\n",
       "    </tr>\n",
       "    <tr>\n",
       "      <th>10880</th>\n",
       "      <td>10</td>\n",
       "      <td>15</td>\n",
       "      <td>30</td>\n",
       "      <td>22</td>\n",
       "      <td>7</td>\n",
       "    </tr>\n",
       "    <tr>\n",
       "      <th>10881</th>\n",
       "      <td>12</td>\n",
       "      <td>8</td>\n",
       "      <td>19</td>\n",
       "      <td>11</td>\n",
       "      <td>3</td>\n",
       "    </tr>\n",
       "    <tr>\n",
       "      <th>10882</th>\n",
       "      <td>18</td>\n",
       "      <td>15</td>\n",
       "      <td>59</td>\n",
       "      <td>44</td>\n",
       "      <td>7</td>\n",
       "    </tr>\n",
       "    <tr>\n",
       "      <th>10883</th>\n",
       "      <td>9</td>\n",
       "      <td>8</td>\n",
       "      <td>21</td>\n",
       "      <td>15</td>\n",
       "      <td>1</td>\n",
       "    </tr>\n",
       "    <tr>\n",
       "      <th>10884</th>\n",
       "      <td>12</td>\n",
       "      <td>14</td>\n",
       "      <td>31</td>\n",
       "      <td>27</td>\n",
       "      <td>5</td>\n",
       "    </tr>\n",
       "  </tbody>\n",
       "</table>\n",
       "<p>10885 rows × 5 columns</p>\n",
       "</div>"
      ],
      "text/plain": [
       "      uniq_Op uniq_Opnd total_Op total_Opnd branchCount\n",
       "0         1.2       1.2      1.2        1.2         1.4\n",
       "1           1         1        1          1           1\n",
       "2          17        36      112         86          13\n",
       "3          17       135      329        271           5\n",
       "4          11        16       76         50           7\n",
       "...       ...       ...      ...        ...         ...\n",
       "10880      10        15       30         22           7\n",
       "10881      12         8       19         11           3\n",
       "10882      18        15       59         44           7\n",
       "10883       9         8       21         15           1\n",
       "10884      12        14       31         27           5\n",
       "\n",
       "[10885 rows x 5 columns]"
      ]
     },
     "execution_count": 66,
     "metadata": {},
     "output_type": "execute_result"
    }
   ],
   "source": [
    "features_to_explore"
   ]
  },
  {
   "cell_type": "code",
   "execution_count": 67,
   "id": "50d55a27",
   "metadata": {},
   "outputs": [
    {
     "data": {
      "text/plain": [
       "array([1.2, 1, 17, 11, 14, 0, 4, 19, 32, 7, 26, 27, 21, 9, 28, 22, 16, 8,\n",
       "       20, 10, 13, 25, 12, 5, 34, 15, 6, 18, 24, 30, '?', 23, 3, 38, 29,\n",
       "       33, 39, 45, 31, 58, 37, 49, 48, 410, 35, 36, 42, 40, 46, 44, 41,\n",
       "       52, 74, 280, 65, 73, 61, 78, 172, 105, 102, 98, 411, 155, 2, 55,\n",
       "       43, 47, 99], dtype=object)"
      ]
     },
     "execution_count": 67,
     "metadata": {},
     "output_type": "execute_result"
    }
   ],
   "source": [
    "features_to_explore['uniq_Op'].unique()"
   ]
  },
  {
   "cell_type": "code",
   "execution_count": 68,
   "id": "325e8f20",
   "metadata": {},
   "outputs": [
    {
     "data": {
      "text/html": [
       "<div>\n",
       "<style scoped>\n",
       "    .dataframe tbody tr th:only-of-type {\n",
       "        vertical-align: middle;\n",
       "    }\n",
       "\n",
       "    .dataframe tbody tr th {\n",
       "        vertical-align: top;\n",
       "    }\n",
       "\n",
       "    .dataframe thead th {\n",
       "        text-align: right;\n",
       "    }\n",
       "</style>\n",
       "<table border=\"1\" class=\"dataframe\">\n",
       "  <thead>\n",
       "    <tr style=\"text-align: right;\">\n",
       "      <th></th>\n",
       "      <th>loc</th>\n",
       "      <th>v(g)</th>\n",
       "      <th>ev(g)</th>\n",
       "      <th>iv(g)</th>\n",
       "      <th>n</th>\n",
       "      <th>v</th>\n",
       "      <th>l</th>\n",
       "      <th>d</th>\n",
       "      <th>i</th>\n",
       "      <th>e</th>\n",
       "      <th>...</th>\n",
       "      <th>lOCode</th>\n",
       "      <th>lOComment</th>\n",
       "      <th>lOBlank</th>\n",
       "      <th>locCodeAndComment</th>\n",
       "      <th>uniq_Op</th>\n",
       "      <th>uniq_Opnd</th>\n",
       "      <th>total_Op</th>\n",
       "      <th>total_Opnd</th>\n",
       "      <th>branchCount</th>\n",
       "      <th>defects</th>\n",
       "    </tr>\n",
       "  </thead>\n",
       "  <tbody>\n",
       "    <tr>\n",
       "      <th>143</th>\n",
       "      <td>49.0</td>\n",
       "      <td>4.0</td>\n",
       "      <td>3.0</td>\n",
       "      <td>3.0</td>\n",
       "      <td>185.0</td>\n",
       "      <td>1097.19</td>\n",
       "      <td>0.05</td>\n",
       "      <td>18.84</td>\n",
       "      <td>58.25</td>\n",
       "      <td>20667.93</td>\n",
       "      <td>...</td>\n",
       "      <td>38</td>\n",
       "      <td>0</td>\n",
       "      <td>9</td>\n",
       "      <td>0</td>\n",
       "      <td>?</td>\n",
       "      <td>?</td>\n",
       "      <td>?</td>\n",
       "      <td>?</td>\n",
       "      <td>?</td>\n",
       "      <td>True</td>\n",
       "    </tr>\n",
       "    <tr>\n",
       "      <th>358</th>\n",
       "      <td>27.0</td>\n",
       "      <td>5.0</td>\n",
       "      <td>3.0</td>\n",
       "      <td>3.0</td>\n",
       "      <td>79.0</td>\n",
       "      <td>417.55</td>\n",
       "      <td>0.07</td>\n",
       "      <td>13.52</td>\n",
       "      <td>30.88</td>\n",
       "      <td>5646.37</td>\n",
       "      <td>...</td>\n",
       "      <td>19</td>\n",
       "      <td>0</td>\n",
       "      <td>6</td>\n",
       "      <td>0</td>\n",
       "      <td>?</td>\n",
       "      <td>?</td>\n",
       "      <td>?</td>\n",
       "      <td>?</td>\n",
       "      <td>?</td>\n",
       "      <td>True</td>\n",
       "    </tr>\n",
       "    <tr>\n",
       "      <th>1598</th>\n",
       "      <td>76.0</td>\n",
       "      <td>18.0</td>\n",
       "      <td>11.0</td>\n",
       "      <td>11.0</td>\n",
       "      <td>275.0</td>\n",
       "      <td>1650.00</td>\n",
       "      <td>0.03</td>\n",
       "      <td>34.50</td>\n",
       "      <td>47.83</td>\n",
       "      <td>56925.00</td>\n",
       "      <td>...</td>\n",
       "      <td>62</td>\n",
       "      <td>0</td>\n",
       "      <td>12</td>\n",
       "      <td>0</td>\n",
       "      <td>?</td>\n",
       "      <td>?</td>\n",
       "      <td>?</td>\n",
       "      <td>?</td>\n",
       "      <td>?</td>\n",
       "      <td>True</td>\n",
       "    </tr>\n",
       "    <tr>\n",
       "      <th>4214</th>\n",
       "      <td>6.0</td>\n",
       "      <td>1.0</td>\n",
       "      <td>1.0</td>\n",
       "      <td>1.0</td>\n",
       "      <td>15.0</td>\n",
       "      <td>51.89</td>\n",
       "      <td>0.34</td>\n",
       "      <td>2.92</td>\n",
       "      <td>17.79</td>\n",
       "      <td>151.35</td>\n",
       "      <td>...</td>\n",
       "      <td>3</td>\n",
       "      <td>0</td>\n",
       "      <td>1</td>\n",
       "      <td>0</td>\n",
       "      <td>?</td>\n",
       "      <td>?</td>\n",
       "      <td>?</td>\n",
       "      <td>?</td>\n",
       "      <td>?</td>\n",
       "      <td>False</td>\n",
       "    </tr>\n",
       "    <tr>\n",
       "      <th>8279</th>\n",
       "      <td>9.0</td>\n",
       "      <td>13.0</td>\n",
       "      <td>10.0</td>\n",
       "      <td>4.0</td>\n",
       "      <td>0.0</td>\n",
       "      <td>0.00</td>\n",
       "      <td>0.00</td>\n",
       "      <td>0.00</td>\n",
       "      <td>0.00</td>\n",
       "      <td>0.00</td>\n",
       "      <td>...</td>\n",
       "      <td>0</td>\n",
       "      <td>0</td>\n",
       "      <td>0</td>\n",
       "      <td>0</td>\n",
       "      <td>?</td>\n",
       "      <td>?</td>\n",
       "      <td>?</td>\n",
       "      <td>?</td>\n",
       "      <td>?</td>\n",
       "      <td>False</td>\n",
       "    </tr>\n",
       "  </tbody>\n",
       "</table>\n",
       "<p>5 rows × 22 columns</p>\n",
       "</div>"
      ],
      "text/plain": [
       "       loc  v(g)  ev(g)  iv(g)      n        v     l      d      i         e  \\\n",
       "143   49.0   4.0    3.0    3.0  185.0  1097.19  0.05  18.84  58.25  20667.93   \n",
       "358   27.0   5.0    3.0    3.0   79.0   417.55  0.07  13.52  30.88   5646.37   \n",
       "1598  76.0  18.0   11.0   11.0  275.0  1650.00  0.03  34.50  47.83  56925.00   \n",
       "4214   6.0   1.0    1.0    1.0   15.0    51.89  0.34   2.92  17.79    151.35   \n",
       "8279   9.0  13.0   10.0    4.0    0.0     0.00  0.00   0.00   0.00      0.00   \n",
       "\n",
       "      ...  lOCode  lOComment  lOBlank  locCodeAndComment  uniq_Op  uniq_Opnd  \\\n",
       "143   ...      38          0        9                  0        ?          ?   \n",
       "358   ...      19          0        6                  0        ?          ?   \n",
       "1598  ...      62          0       12                  0        ?          ?   \n",
       "4214  ...       3          0        1                  0        ?          ?   \n",
       "8279  ...       0          0        0                  0        ?          ?   \n",
       "\n",
       "     total_Op total_Opnd branchCount defects  \n",
       "143         ?          ?           ?    True  \n",
       "358         ?          ?           ?    True  \n",
       "1598        ?          ?           ?    True  \n",
       "4214        ?          ?           ?   False  \n",
       "8279        ?          ?           ?   False  \n",
       "\n",
       "[5 rows x 22 columns]"
      ]
     },
     "execution_count": 68,
     "metadata": {},
     "output_type": "execute_result"
    }
   ],
   "source": [
    "data2[data2[\"uniq_Op\"]==\"?\"]"
   ]
  },
  {
   "cell_type": "code",
   "execution_count": 69,
   "id": "486463b8",
   "metadata": {},
   "outputs": [
    {
     "data": {
      "text/html": [
       "<div>\n",
       "<style scoped>\n",
       "    .dataframe tbody tr th:only-of-type {\n",
       "        vertical-align: middle;\n",
       "    }\n",
       "\n",
       "    .dataframe tbody tr th {\n",
       "        vertical-align: top;\n",
       "    }\n",
       "\n",
       "    .dataframe thead th {\n",
       "        text-align: right;\n",
       "    }\n",
       "</style>\n",
       "<table border=\"1\" class=\"dataframe\">\n",
       "  <thead>\n",
       "    <tr style=\"text-align: right;\">\n",
       "      <th></th>\n",
       "      <th>uniq_Op</th>\n",
       "      <th>uniq_Opnd</th>\n",
       "      <th>total_Op</th>\n",
       "      <th>total_Opnd</th>\n",
       "      <th>branchCount</th>\n",
       "    </tr>\n",
       "  </thead>\n",
       "  <tbody>\n",
       "    <tr>\n",
       "      <th>0</th>\n",
       "      <td>1.2</td>\n",
       "      <td>1.2</td>\n",
       "      <td>1.2</td>\n",
       "      <td>1.2</td>\n",
       "      <td>1.4</td>\n",
       "    </tr>\n",
       "    <tr>\n",
       "      <th>1</th>\n",
       "      <td>1</td>\n",
       "      <td>1</td>\n",
       "      <td>1</td>\n",
       "      <td>1</td>\n",
       "      <td>1</td>\n",
       "    </tr>\n",
       "    <tr>\n",
       "      <th>2</th>\n",
       "      <td>17</td>\n",
       "      <td>36</td>\n",
       "      <td>112</td>\n",
       "      <td>86</td>\n",
       "      <td>13</td>\n",
       "    </tr>\n",
       "    <tr>\n",
       "      <th>3</th>\n",
       "      <td>17</td>\n",
       "      <td>135</td>\n",
       "      <td>329</td>\n",
       "      <td>271</td>\n",
       "      <td>5</td>\n",
       "    </tr>\n",
       "    <tr>\n",
       "      <th>4</th>\n",
       "      <td>11</td>\n",
       "      <td>16</td>\n",
       "      <td>76</td>\n",
       "      <td>50</td>\n",
       "      <td>7</td>\n",
       "    </tr>\n",
       "    <tr>\n",
       "      <th>...</th>\n",
       "      <td>...</td>\n",
       "      <td>...</td>\n",
       "      <td>...</td>\n",
       "      <td>...</td>\n",
       "      <td>...</td>\n",
       "    </tr>\n",
       "    <tr>\n",
       "      <th>10880</th>\n",
       "      <td>10</td>\n",
       "      <td>15</td>\n",
       "      <td>30</td>\n",
       "      <td>22</td>\n",
       "      <td>7</td>\n",
       "    </tr>\n",
       "    <tr>\n",
       "      <th>10881</th>\n",
       "      <td>12</td>\n",
       "      <td>8</td>\n",
       "      <td>19</td>\n",
       "      <td>11</td>\n",
       "      <td>3</td>\n",
       "    </tr>\n",
       "    <tr>\n",
       "      <th>10882</th>\n",
       "      <td>18</td>\n",
       "      <td>15</td>\n",
       "      <td>59</td>\n",
       "      <td>44</td>\n",
       "      <td>7</td>\n",
       "    </tr>\n",
       "    <tr>\n",
       "      <th>10883</th>\n",
       "      <td>9</td>\n",
       "      <td>8</td>\n",
       "      <td>21</td>\n",
       "      <td>15</td>\n",
       "      <td>1</td>\n",
       "    </tr>\n",
       "    <tr>\n",
       "      <th>10884</th>\n",
       "      <td>12</td>\n",
       "      <td>14</td>\n",
       "      <td>31</td>\n",
       "      <td>27</td>\n",
       "      <td>5</td>\n",
       "    </tr>\n",
       "  </tbody>\n",
       "</table>\n",
       "<p>10885 rows × 5 columns</p>\n",
       "</div>"
      ],
      "text/plain": [
       "      uniq_Op uniq_Opnd total_Op total_Opnd branchCount\n",
       "0         1.2       1.2      1.2        1.2         1.4\n",
       "1           1         1        1          1           1\n",
       "2          17        36      112         86          13\n",
       "3          17       135      329        271           5\n",
       "4          11        16       76         50           7\n",
       "...       ...       ...      ...        ...         ...\n",
       "10880      10        15       30         22           7\n",
       "10881      12         8       19         11           3\n",
       "10882      18        15       59         44           7\n",
       "10883       9         8       21         15           1\n",
       "10884      12        14       31         27           5\n",
       "\n",
       "[10885 rows x 5 columns]"
      ]
     },
     "execution_count": 69,
     "metadata": {},
     "output_type": "execute_result"
    }
   ],
   "source": [
    "features_to_explore"
   ]
  },
  {
   "cell_type": "code",
   "execution_count": 70,
   "id": "b003fd15",
   "metadata": {},
   "outputs": [],
   "source": [
    "#converts ? into nan values\n",
    "data3 = data2.copy()"
   ]
  },
  {
   "cell_type": "code",
   "execution_count": 71,
   "id": "3b4002f6",
   "metadata": {},
   "outputs": [],
   "source": [
    "data2.replace(\"?\",np.nan,inplace=True)"
   ]
  },
  {
   "cell_type": "code",
   "execution_count": 72,
   "id": "6ae066c4",
   "metadata": {},
   "outputs": [
    {
     "data": {
      "text/plain": [
       "array([  1.2,   1. ,  17. ,  11. ,  14. ,   0. ,   4. ,  19. ,  32. ,\n",
       "         7. ,  26. ,  27. ,  21. ,   9. ,  28. ,  22. ,  16. ,   8. ,\n",
       "        20. ,  10. ,  13. ,  25. ,  12. ,   5. ,  34. ,  15. ,   6. ,\n",
       "        18. ,  24. ,  30. ,   nan,  23. ,   3. ,  38. ,  29. ,  33. ,\n",
       "        39. ,  45. ,  31. ,  58. ,  37. ,  49. ,  48. , 410. ,  35. ,\n",
       "        36. ,  42. ,  40. ,  46. ,  44. ,  41. ,  52. ,  74. , 280. ,\n",
       "        65. ,  73. ,  61. ,  78. , 172. , 105. , 102. ,  98. , 411. ,\n",
       "       155. ,   2. ,  55. ,  43. ,  47. ,  99. ])"
      ]
     },
     "execution_count": 72,
     "metadata": {},
     "output_type": "execute_result"
    }
   ],
   "source": [
    "data2['uniq_Op'].unique()"
   ]
  },
  {
   "cell_type": "code",
   "execution_count": 73,
   "id": "4e0b053f",
   "metadata": {},
   "outputs": [],
   "source": [
    "#let's impute nan values with mode of corresponding features"
   ]
  },
  {
   "cell_type": "code",
   "execution_count": 74,
   "id": "3b4c9edf",
   "metadata": {},
   "outputs": [
    {
     "data": {
      "text/plain": [
       "Index(['uniq_Op', 'uniq_Opnd', 'total_Op', 'total_Opnd', 'branchCount'], dtype='object')"
      ]
     },
     "execution_count": 74,
     "metadata": {},
     "output_type": "execute_result"
    }
   ],
   "source": [
    "features_to_explore.columns"
   ]
  },
  {
   "cell_type": "code",
   "execution_count": 75,
   "id": "3d43e9ad",
   "metadata": {},
   "outputs": [
    {
     "data": {
      "text/plain": [
       "loc                  0\n",
       "v(g)                 0\n",
       "ev(g)                0\n",
       "iv(g)                0\n",
       "n                    0\n",
       "v                    0\n",
       "l                    0\n",
       "d                    0\n",
       "i                    0\n",
       "e                    0\n",
       "b                    0\n",
       "t                    0\n",
       "lOCode               0\n",
       "lOComment            0\n",
       "lOBlank              0\n",
       "locCodeAndComment    0\n",
       "uniq_Op              5\n",
       "uniq_Opnd            5\n",
       "total_Op             5\n",
       "total_Opnd           5\n",
       "branchCount          5\n",
       "defects              0\n",
       "dtype: int64"
      ]
     },
     "execution_count": 75,
     "metadata": {},
     "output_type": "execute_result"
    }
   ],
   "source": [
    "data2.isnull().sum()"
   ]
  },
  {
   "cell_type": "code",
   "execution_count": 76,
   "id": "61a420c3",
   "metadata": {},
   "outputs": [
    {
     "data": {
      "text/plain": [
       "loc                  float64\n",
       "v(g)                 float64\n",
       "ev(g)                float64\n",
       "iv(g)                float64\n",
       "n                    float64\n",
       "v                    float64\n",
       "l                    float64\n",
       "d                    float64\n",
       "i                    float64\n",
       "e                    float64\n",
       "b                    float64\n",
       "t                    float64\n",
       "lOCode                 int64\n",
       "lOComment              int64\n",
       "lOBlank                int64\n",
       "locCodeAndComment      int64\n",
       "uniq_Op              float64\n",
       "uniq_Opnd            float64\n",
       "total_Op             float64\n",
       "total_Opnd           float64\n",
       "branchCount          float64\n",
       "defects                 bool\n",
       "dtype: object"
      ]
     },
     "execution_count": 76,
     "metadata": {},
     "output_type": "execute_result"
    }
   ],
   "source": [
    "data2.dtypes"
   ]
  },
  {
   "cell_type": "code",
   "execution_count": 77,
   "id": "85059ff4",
   "metadata": {},
   "outputs": [
    {
     "data": {
      "text/plain": [
       "1.0"
      ]
     },
     "execution_count": 77,
     "metadata": {},
     "output_type": "execute_result"
    }
   ],
   "source": [
    "data2['uniq_Op'].mode()\n",
    "data2['branchCount'].mode()[0]"
   ]
  },
  {
   "cell_type": "code",
   "execution_count": 78,
   "id": "22d0f021",
   "metadata": {},
   "outputs": [
    {
     "data": {
      "text/plain": [
       "Index(['uniq_Op', 'uniq_Opnd', 'total_Op', 'total_Opnd', 'branchCount'], dtype='object')"
      ]
     },
     "execution_count": 78,
     "metadata": {},
     "output_type": "execute_result"
    }
   ],
   "source": [
    "features_to_explore.columns"
   ]
  },
  {
   "cell_type": "code",
   "execution_count": 79,
   "id": "a9aafc28",
   "metadata": {},
   "outputs": [],
   "source": [
    "data2['uniq_Op'].fillna(data2['uniq_Op'].mode()[0],inplace=True) \n",
    "data2['uniq_Opnd'].fillna(data2['uniq_Opnd'].mode()[0],inplace=True) \n",
    "data2['total_Op'].fillna(data2['total_Op'].mode()[0],inplace=True) \n",
    "data2['total_Opnd'].fillna(data2['total_Opnd'].mode()[0],inplace=True) \n",
    "data2['branchCount'].fillna(data2['branchCount'].mode()[0],inplace=True) "
   ]
  },
  {
   "cell_type": "code",
   "execution_count": 80,
   "id": "bb5ca76d",
   "metadata": {},
   "outputs": [
    {
     "data": {
      "text/plain": [
       "loc                  0\n",
       "v(g)                 0\n",
       "ev(g)                0\n",
       "iv(g)                0\n",
       "n                    0\n",
       "v                    0\n",
       "l                    0\n",
       "d                    0\n",
       "i                    0\n",
       "e                    0\n",
       "b                    0\n",
       "t                    0\n",
       "lOCode               0\n",
       "lOComment            0\n",
       "lOBlank              0\n",
       "locCodeAndComment    0\n",
       "uniq_Op              0\n",
       "uniq_Opnd            0\n",
       "total_Op             0\n",
       "total_Opnd           0\n",
       "branchCount          0\n",
       "defects              0\n",
       "dtype: int64"
      ]
     },
     "execution_count": 80,
     "metadata": {},
     "output_type": "execute_result"
    }
   ],
   "source": [
    "data2.isnull().sum()"
   ]
  },
  {
   "cell_type": "code",
   "execution_count": 81,
   "id": "53fbfa05",
   "metadata": {},
   "outputs": [
    {
     "data": {
      "text/plain": [
       "array([  1.2,   1. ,  17. ,  11. ,  14. ,   0. ,   4. ,  19. ,  32. ,\n",
       "         7. ,  26. ,  27. ,  21. ,   9. ,  28. ,  22. ,  16. ,   8. ,\n",
       "        20. ,  10. ,  13. ,  25. ,  12. ,   5. ,  34. ,  15. ,   6. ,\n",
       "        18. ,  24. ,  30. ,  23. ,   3. ,  38. ,  29. ,  33. ,  39. ,\n",
       "        45. ,  31. ,  58. ,  37. ,  49. ,  48. , 410. ,  35. ,  36. ,\n",
       "        42. ,  40. ,  46. ,  44. ,  41. ,  52. ,  74. , 280. ,  65. ,\n",
       "        73. ,  61. ,  78. , 172. , 105. , 102. ,  98. , 411. , 155. ,\n",
       "         2. ,  55. ,  43. ,  47. ,  99. ])"
      ]
     },
     "execution_count": 81,
     "metadata": {},
     "output_type": "execute_result"
    }
   ],
   "source": [
    "data2['uniq_Op'].unique()"
   ]
  },
  {
   "cell_type": "code",
   "execution_count": 82,
   "id": "1dc4d814",
   "metadata": {},
   "outputs": [
    {
     "data": {
      "text/plain": [
       "False    8779\n",
       "True     2106\n",
       "Name: defects, dtype: int64"
      ]
     },
     "execution_count": 82,
     "metadata": {},
     "output_type": "execute_result"
    }
   ],
   "source": [
    "data2['defects'].value_counts()"
   ]
  },
  {
   "cell_type": "code",
   "execution_count": 84,
   "id": "30dbc7da",
   "metadata": {},
   "outputs": [],
   "source": [
    "data2[\"defects\"]=data2['defects'].map({False:0,True:1})"
   ]
  },
  {
   "cell_type": "code",
   "execution_count": 87,
   "id": "aba22bd1",
   "metadata": {},
   "outputs": [
    {
     "data": {
      "text/plain": [
       "0    8779\n",
       "1    2106\n",
       "Name: defects, dtype: int64"
      ]
     },
     "execution_count": 87,
     "metadata": {},
     "output_type": "execute_result"
    }
   ],
   "source": [
    "data2['defects'].value_counts()"
   ]
  },
  {
   "cell_type": "code",
   "execution_count": 89,
   "id": "25fef54b",
   "metadata": {},
   "outputs": [],
   "source": [
    "pd.set_option(\"display.max_columns\",22)"
   ]
  },
  {
   "cell_type": "code",
   "execution_count": 91,
   "id": "78378cde",
   "metadata": {},
   "outputs": [],
   "source": [
    "out=data2.corr()"
   ]
  },
  {
   "cell_type": "code",
   "execution_count": 93,
   "id": "01d3667a",
   "metadata": {},
   "outputs": [
    {
     "data": {
      "text/plain": [
       "defects              1.000000\n",
       "loc                  0.245388\n",
       "branchCount          0.222395\n",
       "uniq_Opnd            0.211510\n",
       "v(g)                 0.208644\n",
       "n                    0.204143\n",
       "total_Opnd           0.203475\n",
       "total_Op             0.200645\n",
       "lOBlank              0.199644\n",
       "lOCode               0.195897\n",
       "i                    0.192831\n",
       "b                    0.189342\n",
       "v                    0.189136\n",
       "iv(g)                0.181984\n",
       "ev(g)                0.172973\n",
       "d                    0.169629\n",
       "lOComment            0.160887\n",
       "uniq_Op              0.158168\n",
       "locCodeAndComment    0.117891\n",
       "t                    0.086036\n",
       "e                    0.086036\n",
       "l                   -0.164917\n",
       "Name: defects, dtype: float64"
      ]
     },
     "execution_count": 93,
     "metadata": {},
     "output_type": "execute_result"
    }
   ],
   "source": [
    "out[\"defects\"].sort_values(ascending=False)"
   ]
  },
  {
   "attachments": {
    "5_number_summary.PNG": {
     "image/png": "[encoded data removed]"
    }
   },
   "cell_type": "markdown",
   "id": "b8f79e40",
   "metadata": {},
   "source": [
    "## Summarizing data\n",
    "\n",
    "We have seen many examples of descriptive statistics that we can use to summarize our\n",
    "data by its center and dispersion; in practice, looking at the 5-number summary and\n",
    "visualizing the distribution prove to be helpful first steps before diving into some of the\n",
    "other aforementioned metrics. The 5-number summary, as its name indicates, provides\n",
    "five descriptive statistics that summarize our data:\n",
    "\n",
    "![5_number_summary.PNG](attachment:5_number_summary.PNG)\n",
    "\n",
    "--------------------------------------------------- The 5-number summary"
   ]
  },
  {
   "attachments": {
    "box_plot.PNG": {
     "image/png": "[encoded data removed]"
    }
   },
   "cell_type": "markdown",
   "id": "1b29867f",
   "metadata": {},
   "source": [
    "## Box and Whisker Plot\n",
    "\n",
    "A box plot (or box and whisker plot) is a visual representation of the 5-number summary.\n",
    "The median is denoted by a thick line in the box. The top of the box is Q3 and the bottom\n",
    "of the box is Q1. Lines (whiskers) extend from both sides of the box boundaries toward the\n",
    "minimum and maximum. Based on the convention our plotting tool uses, though, they\n",
    "may only extend to a certain statistic; any values beyond these statistics are marked\n",
    "as outliers (using points). For this book in general, the lower bound of the whiskers will\n",
    "be Q1 – 1.5 * IQR and the upper bound will be Q3 + 1.5 * IQR, which is called the\n",
    "Tukey box plot:\n",
    "\n",
    "![box_plot.PNG](attachment:box_plot.PNG)\n",
    "\n",
    "While the box plot is a great tool for getting an initial understanding of the distribution,\n",
    "we don't get to see how things are distributed inside each of the quartiles. For this\n",
    "purpose, we turn to histograms for discrete variables (for instance, the number of people\n",
    "or books) and kernel density estimates (KDEs) for continuous variables (for instance,\n",
    "heights or time). There is nothing stopping us from using KDEs on discrete variables, but\n",
    "it is easy to confuse people that way. Histograms work for both discrete and continuous\n",
    "variables; however, in both cases, we must keep in mind that the number of bins we\n",
    "choose to divide the data into can easily change the shape of the distribution we see."
   ]
  },
  {
   "cell_type": "code",
   "execution_count": 6,
   "id": "e7df6541",
   "metadata": {},
   "outputs": [],
   "source": [
    "import seaborn as sns\n",
    "import pandas as pd"
   ]
  },
  {
   "cell_type": "code",
   "execution_count": 7,
   "id": "1e612c35",
   "metadata": {},
   "outputs": [],
   "source": [
    "house =pd.read_csv('housing.csv')"
   ]
  },
  {
   "cell_type": "code",
   "execution_count": 8,
   "id": "dd66f50f",
   "metadata": {},
   "outputs": [
    {
     "data": {
      "text/html": [
       "<div>\n",
       "<style scoped>\n",
       "    .dataframe tbody tr th:only-of-type {\n",
       "        vertical-align: middle;\n",
       "    }\n",
       "\n",
       "    .dataframe tbody tr th {\n",
       "        vertical-align: top;\n",
       "    }\n",
       "\n",
       "    .dataframe thead th {\n",
       "        text-align: right;\n",
       "    }\n",
       "</style>\n",
       "<table border=\"1\" class=\"dataframe\">\n",
       "  <thead>\n",
       "    <tr style=\"text-align: right;\">\n",
       "      <th></th>\n",
       "      <th>longitude</th>\n",
       "      <th>latitude</th>\n",
       "      <th>housing_median_age</th>\n",
       "      <th>total_rooms</th>\n",
       "      <th>total_bedrooms</th>\n",
       "      <th>population</th>\n",
       "      <th>households</th>\n",
       "      <th>median_income</th>\n",
       "      <th>median_house_value</th>\n",
       "      <th>ocean_proximity</th>\n",
       "    </tr>\n",
       "  </thead>\n",
       "  <tbody>\n",
       "    <tr>\n",
       "      <th>0</th>\n",
       "      <td>-122.23</td>\n",
       "      <td>37.88</td>\n",
       "      <td>41.0</td>\n",
       "      <td>880.0</td>\n",
       "      <td>129.0</td>\n",
       "      <td>322.0</td>\n",
       "      <td>126.0</td>\n",
       "      <td>8.3252</td>\n",
       "      <td>452600.0</td>\n",
       "      <td>NEAR BAY</td>\n",
       "    </tr>\n",
       "    <tr>\n",
       "      <th>1</th>\n",
       "      <td>-122.22</td>\n",
       "      <td>37.86</td>\n",
       "      <td>21.0</td>\n",
       "      <td>7099.0</td>\n",
       "      <td>1106.0</td>\n",
       "      <td>2401.0</td>\n",
       "      <td>1138.0</td>\n",
       "      <td>8.3014</td>\n",
       "      <td>358500.0</td>\n",
       "      <td>NEAR BAY</td>\n",
       "    </tr>\n",
       "    <tr>\n",
       "      <th>2</th>\n",
       "      <td>-122.24</td>\n",
       "      <td>37.85</td>\n",
       "      <td>52.0</td>\n",
       "      <td>1467.0</td>\n",
       "      <td>190.0</td>\n",
       "      <td>496.0</td>\n",
       "      <td>177.0</td>\n",
       "      <td>7.2574</td>\n",
       "      <td>352100.0</td>\n",
       "      <td>NEAR BAY</td>\n",
       "    </tr>\n",
       "    <tr>\n",
       "      <th>3</th>\n",
       "      <td>-122.25</td>\n",
       "      <td>37.85</td>\n",
       "      <td>52.0</td>\n",
       "      <td>1274.0</td>\n",
       "      <td>235.0</td>\n",
       "      <td>558.0</td>\n",
       "      <td>219.0</td>\n",
       "      <td>5.6431</td>\n",
       "      <td>341300.0</td>\n",
       "      <td>NEAR BAY</td>\n",
       "    </tr>\n",
       "    <tr>\n",
       "      <th>4</th>\n",
       "      <td>-122.25</td>\n",
       "      <td>37.85</td>\n",
       "      <td>52.0</td>\n",
       "      <td>1627.0</td>\n",
       "      <td>280.0</td>\n",
       "      <td>565.0</td>\n",
       "      <td>259.0</td>\n",
       "      <td>3.8462</td>\n",
       "      <td>342200.0</td>\n",
       "      <td>NEAR BAY</td>\n",
       "    </tr>\n",
       "  </tbody>\n",
       "</table>\n",
       "</div>"
      ],
      "text/plain": [
       "   longitude  latitude  housing_median_age  total_rooms  total_bedrooms  \\\n",
       "0    -122.23     37.88                41.0        880.0           129.0   \n",
       "1    -122.22     37.86                21.0       7099.0          1106.0   \n",
       "2    -122.24     37.85                52.0       1467.0           190.0   \n",
       "3    -122.25     37.85                52.0       1274.0           235.0   \n",
       "4    -122.25     37.85                52.0       1627.0           280.0   \n",
       "\n",
       "   population  households  median_income  median_house_value ocean_proximity  \n",
       "0       322.0       126.0         8.3252            452600.0        NEAR BAY  \n",
       "1      2401.0      1138.0         8.3014            358500.0        NEAR BAY  \n",
       "2       496.0       177.0         7.2574            352100.0        NEAR BAY  \n",
       "3       558.0       219.0         5.6431            341300.0        NEAR BAY  \n",
       "4       565.0       259.0         3.8462            342200.0        NEAR BAY  "
      ]
     },
     "execution_count": 8,
     "metadata": {},
     "output_type": "execute_result"
    }
   ],
   "source": [
    "house.head()"
   ]
  },
  {
   "cell_type": "code",
   "execution_count": 9,
   "id": "d3f64387",
   "metadata": {},
   "outputs": [
    {
     "data": {
      "text/plain": [
       "<Axes: >"
      ]
     },
     "execution_count": 9,
     "metadata": {},
     "output_type": "execute_result"
    },
    {
     "data": {
      "image/png": "[encoded data removed]",
      "text/plain": [
       "<Figure size 640x480 with 1 Axes>"
      ]
     },
     "metadata": {},
     "output_type": "display_data"
    }
   ],
   "source": [
    "sns.boxplot(house['median_house_value'])"
   ]
  },
  {
   "cell_type": "code",
   "execution_count": 10,
   "id": "1841d7f4",
   "metadata": {},
   "outputs": [
    {
     "data": {
      "text/plain": [
       "<Axes: title={'center': 'median_house_value'}, xlabel='ocean_proximity'>"
      ]
     },
     "execution_count": 10,
     "metadata": {},
     "output_type": "execute_result"
    },
    {
     "data": {
      "image/png": "[encoded data removed]",
      "text/plain": [
       "<Figure size 640x480 with 1 Axes>"
      ]
     },
     "metadata": {},
     "output_type": "display_data"
    }
   ],
   "source": [
    "house.boxplot(by ='ocean_proximity', column =['median_house_value'], grid = False)"
   ]
  },
  {
   "cell_type": "code",
   "execution_count": 12,
   "id": "00e65173",
   "metadata": {},
   "outputs": [
    {
     "data": {
      "text/html": [
       "<div>\n",
       "<style scoped>\n",
       "    .dataframe tbody tr th:only-of-type {\n",
       "        vertical-align: middle;\n",
       "    }\n",
       "\n",
       "    .dataframe tbody tr th {\n",
       "        vertical-align: top;\n",
       "    }\n",
       "\n",
       "    .dataframe thead th {\n",
       "        text-align: right;\n",
       "    }\n",
       "</style>\n",
       "<table border=\"1\" class=\"dataframe\">\n",
       "  <thead>\n",
       "    <tr style=\"text-align: right;\">\n",
       "      <th></th>\n",
       "      <th>longitude</th>\n",
       "      <th>latitude</th>\n",
       "      <th>housing_median_age</th>\n",
       "      <th>total_rooms</th>\n",
       "      <th>total_bedrooms</th>\n",
       "      <th>population</th>\n",
       "      <th>households</th>\n",
       "      <th>median_income</th>\n",
       "      <th>median_house_value</th>\n",
       "      <th>ocean_proximity</th>\n",
       "    </tr>\n",
       "  </thead>\n",
       "  <tbody>\n",
       "    <tr>\n",
       "      <th>0</th>\n",
       "      <td>-122.23</td>\n",
       "      <td>37.88</td>\n",
       "      <td>41.0</td>\n",
       "      <td>880.0</td>\n",
       "      <td>129.0</td>\n",
       "      <td>322.0</td>\n",
       "      <td>126.0</td>\n",
       "      <td>8.3252</td>\n",
       "      <td>452600.0</td>\n",
       "      <td>NEAR BAY</td>\n",
       "    </tr>\n",
       "    <tr>\n",
       "      <th>1</th>\n",
       "      <td>-122.22</td>\n",
       "      <td>37.86</td>\n",
       "      <td>21.0</td>\n",
       "      <td>7099.0</td>\n",
       "      <td>1106.0</td>\n",
       "      <td>2401.0</td>\n",
       "      <td>1138.0</td>\n",
       "      <td>8.3014</td>\n",
       "      <td>358500.0</td>\n",
       "      <td>NEAR BAY</td>\n",
       "    </tr>\n",
       "    <tr>\n",
       "      <th>2</th>\n",
       "      <td>-122.24</td>\n",
       "      <td>37.85</td>\n",
       "      <td>52.0</td>\n",
       "      <td>1467.0</td>\n",
       "      <td>190.0</td>\n",
       "      <td>496.0</td>\n",
       "      <td>177.0</td>\n",
       "      <td>7.2574</td>\n",
       "      <td>352100.0</td>\n",
       "      <td>NEAR BAY</td>\n",
       "    </tr>\n",
       "    <tr>\n",
       "      <th>3</th>\n",
       "      <td>-122.25</td>\n",
       "      <td>37.85</td>\n",
       "      <td>52.0</td>\n",
       "      <td>1274.0</td>\n",
       "      <td>235.0</td>\n",
       "      <td>558.0</td>\n",
       "      <td>219.0</td>\n",
       "      <td>5.6431</td>\n",
       "      <td>341300.0</td>\n",
       "      <td>NEAR BAY</td>\n",
       "    </tr>\n",
       "    <tr>\n",
       "      <th>4</th>\n",
       "      <td>-122.25</td>\n",
       "      <td>37.85</td>\n",
       "      <td>52.0</td>\n",
       "      <td>1627.0</td>\n",
       "      <td>280.0</td>\n",
       "      <td>565.0</td>\n",
       "      <td>259.0</td>\n",
       "      <td>3.8462</td>\n",
       "      <td>342200.0</td>\n",
       "      <td>NEAR BAY</td>\n",
       "    </tr>\n",
       "  </tbody>\n",
       "</table>\n",
       "</div>"
      ],
      "text/plain": [
       "   longitude  latitude  housing_median_age  total_rooms  total_bedrooms  \\\n",
       "0    -122.23     37.88                41.0        880.0           129.0   \n",
       "1    -122.22     37.86                21.0       7099.0          1106.0   \n",
       "2    -122.24     37.85                52.0       1467.0           190.0   \n",
       "3    -122.25     37.85                52.0       1274.0           235.0   \n",
       "4    -122.25     37.85                52.0       1627.0           280.0   \n",
       "\n",
       "   population  households  median_income  median_house_value ocean_proximity  \n",
       "0       322.0       126.0         8.3252            452600.0        NEAR BAY  \n",
       "1      2401.0      1138.0         8.3014            358500.0        NEAR BAY  \n",
       "2       496.0       177.0         7.2574            352100.0        NEAR BAY  \n",
       "3       558.0       219.0         5.6431            341300.0        NEAR BAY  \n",
       "4       565.0       259.0         3.8462            342200.0        NEAR BAY  "
      ]
     },
     "execution_count": 12,
     "metadata": {},
     "output_type": "execute_result"
    }
   ],
   "source": [
    "house.head()"
   ]
  },
  {
   "cell_type": "code",
   "execution_count": 14,
   "id": "63780d4d",
   "metadata": {},
   "outputs": [],
   "source": [
    "data = pd.read_csv('titanic.csv')"
   ]
  },
  {
   "cell_type": "code",
   "execution_count": 15,
   "id": "849d1a07",
   "metadata": {},
   "outputs": [
    {
     "data": {
      "text/plain": [
       "<Axes: title={'center': 'fare'}, xlabel='sex'>"
      ]
     },
     "execution_count": 15,
     "metadata": {},
     "output_type": "execute_result"
    },
    {
     "data": {
      "image/png": "[encoded data removed]",
      "text/plain": [
       "<Figure size 640x480 with 1 Axes>"
      ]
     },
     "metadata": {},
     "output_type": "display_data"
    }
   ],
   "source": [
    "data.boxplot(by ='sex', column =['fare'], grid = False)"
   ]
  },
  {
   "cell_type": "code",
   "execution_count": 16,
   "id": "4ab48074",
   "metadata": {},
   "outputs": [
    {
     "data": {
      "text/html": [
       "<div>\n",
       "<style scoped>\n",
       "    .dataframe tbody tr th:only-of-type {\n",
       "        vertical-align: middle;\n",
       "    }\n",
       "\n",
       "    .dataframe tbody tr th {\n",
       "        vertical-align: top;\n",
       "    }\n",
       "\n",
       "    .dataframe thead th {\n",
       "        text-align: right;\n",
       "    }\n",
       "</style>\n",
       "<table border=\"1\" class=\"dataframe\">\n",
       "  <thead>\n",
       "    <tr style=\"text-align: right;\">\n",
       "      <th></th>\n",
       "      <th>longitude</th>\n",
       "      <th>latitude</th>\n",
       "      <th>housing_median_age</th>\n",
       "      <th>total_rooms</th>\n",
       "      <th>total_bedrooms</th>\n",
       "      <th>population</th>\n",
       "      <th>households</th>\n",
       "      <th>median_income</th>\n",
       "      <th>median_house_value</th>\n",
       "      <th>ocean_proximity</th>\n",
       "    </tr>\n",
       "  </thead>\n",
       "  <tbody>\n",
       "    <tr>\n",
       "      <th>0</th>\n",
       "      <td>-122.23</td>\n",
       "      <td>37.88</td>\n",
       "      <td>41.0</td>\n",
       "      <td>880.0</td>\n",
       "      <td>129.0</td>\n",
       "      <td>322.0</td>\n",
       "      <td>126.0</td>\n",
       "      <td>8.3252</td>\n",
       "      <td>452600.0</td>\n",
       "      <td>NEAR BAY</td>\n",
       "    </tr>\n",
       "    <tr>\n",
       "      <th>89</th>\n",
       "      <td>-122.27</td>\n",
       "      <td>37.80</td>\n",
       "      <td>52.0</td>\n",
       "      <td>249.0</td>\n",
       "      <td>78.0</td>\n",
       "      <td>396.0</td>\n",
       "      <td>85.0</td>\n",
       "      <td>1.2434</td>\n",
       "      <td>500001.0</td>\n",
       "      <td>NEAR BAY</td>\n",
       "    </tr>\n",
       "    <tr>\n",
       "      <th>140</th>\n",
       "      <td>-122.18</td>\n",
       "      <td>37.81</td>\n",
       "      <td>30.0</td>\n",
       "      <td>292.0</td>\n",
       "      <td>38.0</td>\n",
       "      <td>126.0</td>\n",
       "      <td>52.0</td>\n",
       "      <td>6.3624</td>\n",
       "      <td>483300.0</td>\n",
       "      <td>NEAR BAY</td>\n",
       "    </tr>\n",
       "    <tr>\n",
       "      <th>459</th>\n",
       "      <td>-122.25</td>\n",
       "      <td>37.87</td>\n",
       "      <td>52.0</td>\n",
       "      <td>609.0</td>\n",
       "      <td>236.0</td>\n",
       "      <td>1349.0</td>\n",
       "      <td>250.0</td>\n",
       "      <td>1.1696</td>\n",
       "      <td>500001.0</td>\n",
       "      <td>NEAR BAY</td>\n",
       "    </tr>\n",
       "    <tr>\n",
       "      <th>489</th>\n",
       "      <td>-122.25</td>\n",
       "      <td>37.86</td>\n",
       "      <td>48.0</td>\n",
       "      <td>2153.0</td>\n",
       "      <td>517.0</td>\n",
       "      <td>1656.0</td>\n",
       "      <td>459.0</td>\n",
       "      <td>3.0417</td>\n",
       "      <td>489600.0</td>\n",
       "      <td>NEAR BAY</td>\n",
       "    </tr>\n",
       "    <tr>\n",
       "      <th>...</th>\n",
       "      <td>...</td>\n",
       "      <td>...</td>\n",
       "      <td>...</td>\n",
       "      <td>...</td>\n",
       "      <td>...</td>\n",
       "      <td>...</td>\n",
       "      <td>...</td>\n",
       "      <td>...</td>\n",
       "      <td>...</td>\n",
       "      <td>...</td>\n",
       "    </tr>\n",
       "    <tr>\n",
       "      <th>20422</th>\n",
       "      <td>-118.90</td>\n",
       "      <td>34.14</td>\n",
       "      <td>35.0</td>\n",
       "      <td>1503.0</td>\n",
       "      <td>263.0</td>\n",
       "      <td>576.0</td>\n",
       "      <td>216.0</td>\n",
       "      <td>5.1457</td>\n",
       "      <td>500001.0</td>\n",
       "      <td>&lt;1H OCEAN</td>\n",
       "    </tr>\n",
       "    <tr>\n",
       "      <th>20426</th>\n",
       "      <td>-118.69</td>\n",
       "      <td>34.18</td>\n",
       "      <td>11.0</td>\n",
       "      <td>1177.0</td>\n",
       "      <td>138.0</td>\n",
       "      <td>415.0</td>\n",
       "      <td>119.0</td>\n",
       "      <td>10.0472</td>\n",
       "      <td>500001.0</td>\n",
       "      <td>&lt;1H OCEAN</td>\n",
       "    </tr>\n",
       "    <tr>\n",
       "      <th>20427</th>\n",
       "      <td>-118.80</td>\n",
       "      <td>34.19</td>\n",
       "      <td>4.0</td>\n",
       "      <td>15572.0</td>\n",
       "      <td>2222.0</td>\n",
       "      <td>5495.0</td>\n",
       "      <td>2152.0</td>\n",
       "      <td>8.6499</td>\n",
       "      <td>500001.0</td>\n",
       "      <td>&lt;1H OCEAN</td>\n",
       "    </tr>\n",
       "    <tr>\n",
       "      <th>20436</th>\n",
       "      <td>-118.69</td>\n",
       "      <td>34.21</td>\n",
       "      <td>10.0</td>\n",
       "      <td>3663.0</td>\n",
       "      <td>409.0</td>\n",
       "      <td>1179.0</td>\n",
       "      <td>371.0</td>\n",
       "      <td>12.5420</td>\n",
       "      <td>500001.0</td>\n",
       "      <td>&lt;1H OCEAN</td>\n",
       "    </tr>\n",
       "    <tr>\n",
       "      <th>20443</th>\n",
       "      <td>-118.85</td>\n",
       "      <td>34.27</td>\n",
       "      <td>50.0</td>\n",
       "      <td>187.0</td>\n",
       "      <td>33.0</td>\n",
       "      <td>130.0</td>\n",
       "      <td>35.0</td>\n",
       "      <td>3.3438</td>\n",
       "      <td>500001.0</td>\n",
       "      <td>&lt;1H OCEAN</td>\n",
       "    </tr>\n",
       "  </tbody>\n",
       "</table>\n",
       "<p>1257 rows × 10 columns</p>\n",
       "</div>"
      ],
      "text/plain": [
       "       longitude  latitude  housing_median_age  total_rooms  total_bedrooms  \\\n",
       "0        -122.23     37.88                41.0        880.0           129.0   \n",
       "89       -122.27     37.80                52.0        249.0            78.0   \n",
       "140      -122.18     37.81                30.0        292.0            38.0   \n",
       "459      -122.25     37.87                52.0        609.0           236.0   \n",
       "489      -122.25     37.86                48.0       2153.0           517.0   \n",
       "...          ...       ...                 ...          ...             ...   \n",
       "20422    -118.90     34.14                35.0       1503.0           263.0   \n",
       "20426    -118.69     34.18                11.0       1177.0           138.0   \n",
       "20427    -118.80     34.19                 4.0      15572.0          2222.0   \n",
       "20436    -118.69     34.21                10.0       3663.0           409.0   \n",
       "20443    -118.85     34.27                50.0        187.0            33.0   \n",
       "\n",
       "       population  households  median_income  median_house_value  \\\n",
       "0           322.0       126.0         8.3252            452600.0   \n",
       "89          396.0        85.0         1.2434            500001.0   \n",
       "140         126.0        52.0         6.3624            483300.0   \n",
       "459        1349.0       250.0         1.1696            500001.0   \n",
       "489        1656.0       459.0         3.0417            489600.0   \n",
       "...           ...         ...            ...                 ...   \n",
       "20422       576.0       216.0         5.1457            500001.0   \n",
       "20426       415.0       119.0        10.0472            500001.0   \n",
       "20427      5495.0      2152.0         8.6499            500001.0   \n",
       "20436      1179.0       371.0        12.5420            500001.0   \n",
       "20443       130.0        35.0         3.3438            500001.0   \n",
       "\n",
       "      ocean_proximity  \n",
       "0            NEAR BAY  \n",
       "89           NEAR BAY  \n",
       "140          NEAR BAY  \n",
       "459          NEAR BAY  \n",
       "489          NEAR BAY  \n",
       "...               ...  \n",
       "20422       <1H OCEAN  \n",
       "20426       <1H OCEAN  \n",
       "20427       <1H OCEAN  \n",
       "20436       <1H OCEAN  \n",
       "20443       <1H OCEAN  \n",
       "\n",
       "[1257 rows x 10 columns]"
      ]
     },
     "execution_count": 16,
     "metadata": {},
     "output_type": "execute_result"
    }
   ],
   "source": [
    "house[house['median_house_value']>450000]"
   ]
  },
  {
   "cell_type": "code",
   "execution_count": 17,
   "id": "d71989e2",
   "metadata": {},
   "outputs": [
    {
     "data": {
      "text/plain": [
       "median_house_value    500001.0\n",
       "dtype: float64"
      ]
     },
     "execution_count": 17,
     "metadata": {},
     "output_type": "execute_result"
    }
   ],
   "source": [
    "house[house['ocean_proximity']==\"INLAND\"].loc[:,['median_house_value']].max()"
   ]
  },
  {
   "cell_type": "code",
   "execution_count": 18,
   "id": "a60b85be",
   "metadata": {},
   "outputs": [
    {
     "data": {
      "text/plain": [
       "<1H OCEAN     9136\n",
       "INLAND        6551\n",
       "NEAR OCEAN    2658\n",
       "NEAR BAY      2290\n",
       "ISLAND           5\n",
       "Name: ocean_proximity, dtype: int64"
      ]
     },
     "execution_count": 18,
     "metadata": {},
     "output_type": "execute_result"
    }
   ],
   "source": [
    "house['ocean_proximity'].value_counts()"
   ]
  },
  {
   "attachments": {
    "histgram.PNG": {
     "image/png": "[encoded data removed]"
    }
   },
   "cell_type": "markdown",
   "id": "fdc667fc",
   "metadata": {},
   "source": [
    "To make a histogram, a certain number of equal-width bins are created, and then bars\n",
    "with heights for the number of values we have in each bin are added. The following plot\n",
    "is a histogram with 10 bins, showing the three measures of central tendency for the same\n",
    "data that was used to generate the box plot\n",
    "\n",
    "![histgram.PNG](attachment:histgram.PNG)\n",
    "------------------------------------------------------Histogram\n",
    "\n",
    "In practice, we need to play around with the number of bins to find the best\n",
    "value. However, we have to be careful as this can misrepresent the shape of the\n",
    "distribution."
   ]
  },
  {
   "cell_type": "code",
   "execution_count": 19,
   "id": "bd3a962a",
   "metadata": {},
   "outputs": [
    {
     "data": {
      "text/plain": [
       "<Axes: xlabel='median_house_value', ylabel='Count'>"
      ]
     },
     "execution_count": 19,
     "metadata": {},
     "output_type": "execute_result"
    },
    {
     "data": {
      "image/png": "[encoded data removed]",
      "text/plain": [
       "<Figure size 640x480 with 1 Axes>"
      ]
     },
     "metadata": {},
     "output_type": "display_data"
    }
   ],
   "source": [
    "sns.histplot(house['median_house_value'],bins=10,kde=True)"
   ]
  },
  {
   "cell_type": "code",
   "execution_count": 20,
   "id": "4401cab0",
   "metadata": {},
   "outputs": [
    {
     "data": {
      "text/plain": [
       "500001.0    965\n",
       "137500.0    122\n",
       "162500.0    117\n",
       "112500.0    103\n",
       "187500.0     93\n",
       "           ... \n",
       "359200.0      1\n",
       "54900.0       1\n",
       "377600.0      1\n",
       "81200.0       1\n",
       "47000.0       1\n",
       "Name: median_house_value, Length: 3842, dtype: int64"
      ]
     },
     "execution_count": 20,
     "metadata": {},
     "output_type": "execute_result"
    }
   ],
   "source": [
    "house['median_house_value'].value_counts()"
   ]
  },
  {
   "cell_type": "code",
   "execution_count": 21,
   "id": "6f34d2e4",
   "metadata": {},
   "outputs": [
    {
     "data": {
      "text/html": [
       "<div>\n",
       "<style scoped>\n",
       "    .dataframe tbody tr th:only-of-type {\n",
       "        vertical-align: middle;\n",
       "    }\n",
       "\n",
       "    .dataframe tbody tr th {\n",
       "        vertical-align: top;\n",
       "    }\n",
       "\n",
       "    .dataframe thead th {\n",
       "        text-align: right;\n",
       "    }\n",
       "</style>\n",
       "<table border=\"1\" class=\"dataframe\">\n",
       "  <thead>\n",
       "    <tr style=\"text-align: right;\">\n",
       "      <th></th>\n",
       "      <th>longitude</th>\n",
       "      <th>latitude</th>\n",
       "      <th>housing_median_age</th>\n",
       "      <th>total_rooms</th>\n",
       "      <th>total_bedrooms</th>\n",
       "      <th>population</th>\n",
       "      <th>households</th>\n",
       "      <th>median_income</th>\n",
       "      <th>median_house_value</th>\n",
       "      <th>ocean_proximity</th>\n",
       "    </tr>\n",
       "  </thead>\n",
       "  <tbody>\n",
       "    <tr>\n",
       "      <th>23</th>\n",
       "      <td>-122.27</td>\n",
       "      <td>37.84</td>\n",
       "      <td>52.0</td>\n",
       "      <td>1688.0</td>\n",
       "      <td>337.0</td>\n",
       "      <td>853.0</td>\n",
       "      <td>325.0</td>\n",
       "      <td>2.1806</td>\n",
       "      <td>99700.0</td>\n",
       "      <td>NEAR BAY</td>\n",
       "    </tr>\n",
       "    <tr>\n",
       "      <th>26</th>\n",
       "      <td>-122.28</td>\n",
       "      <td>37.85</td>\n",
       "      <td>49.0</td>\n",
       "      <td>1130.0</td>\n",
       "      <td>244.0</td>\n",
       "      <td>607.0</td>\n",
       "      <td>239.0</td>\n",
       "      <td>2.4597</td>\n",
       "      <td>93800.0</td>\n",
       "      <td>NEAR BAY</td>\n",
       "    </tr>\n",
       "    <tr>\n",
       "      <th>33</th>\n",
       "      <td>-122.27</td>\n",
       "      <td>37.83</td>\n",
       "      <td>49.0</td>\n",
       "      <td>1655.0</td>\n",
       "      <td>366.0</td>\n",
       "      <td>754.0</td>\n",
       "      <td>329.0</td>\n",
       "      <td>1.3750</td>\n",
       "      <td>104900.0</td>\n",
       "      <td>NEAR BAY</td>\n",
       "    </tr>\n",
       "    <tr>\n",
       "      <th>35</th>\n",
       "      <td>-122.27</td>\n",
       "      <td>37.83</td>\n",
       "      <td>49.0</td>\n",
       "      <td>1215.0</td>\n",
       "      <td>282.0</td>\n",
       "      <td>570.0</td>\n",
       "      <td>264.0</td>\n",
       "      <td>1.4861</td>\n",
       "      <td>97200.0</td>\n",
       "      <td>NEAR BAY</td>\n",
       "    </tr>\n",
       "    <tr>\n",
       "      <th>36</th>\n",
       "      <td>-122.27</td>\n",
       "      <td>37.83</td>\n",
       "      <td>48.0</td>\n",
       "      <td>1798.0</td>\n",
       "      <td>432.0</td>\n",
       "      <td>987.0</td>\n",
       "      <td>374.0</td>\n",
       "      <td>1.0972</td>\n",
       "      <td>104500.0</td>\n",
       "      <td>NEAR BAY</td>\n",
       "    </tr>\n",
       "    <tr>\n",
       "      <th>...</th>\n",
       "      <td>...</td>\n",
       "      <td>...</td>\n",
       "      <td>...</td>\n",
       "      <td>...</td>\n",
       "      <td>...</td>\n",
       "      <td>...</td>\n",
       "      <td>...</td>\n",
       "      <td>...</td>\n",
       "      <td>...</td>\n",
       "      <td>...</td>\n",
       "    </tr>\n",
       "    <tr>\n",
       "      <th>20635</th>\n",
       "      <td>-121.09</td>\n",
       "      <td>39.48</td>\n",
       "      <td>25.0</td>\n",
       "      <td>1665.0</td>\n",
       "      <td>374.0</td>\n",
       "      <td>845.0</td>\n",
       "      <td>330.0</td>\n",
       "      <td>1.5603</td>\n",
       "      <td>78100.0</td>\n",
       "      <td>INLAND</td>\n",
       "    </tr>\n",
       "    <tr>\n",
       "      <th>20636</th>\n",
       "      <td>-121.21</td>\n",
       "      <td>39.49</td>\n",
       "      <td>18.0</td>\n",
       "      <td>697.0</td>\n",
       "      <td>150.0</td>\n",
       "      <td>356.0</td>\n",
       "      <td>114.0</td>\n",
       "      <td>2.5568</td>\n",
       "      <td>77100.0</td>\n",
       "      <td>INLAND</td>\n",
       "    </tr>\n",
       "    <tr>\n",
       "      <th>20637</th>\n",
       "      <td>-121.22</td>\n",
       "      <td>39.43</td>\n",
       "      <td>17.0</td>\n",
       "      <td>2254.0</td>\n",
       "      <td>485.0</td>\n",
       "      <td>1007.0</td>\n",
       "      <td>433.0</td>\n",
       "      <td>1.7000</td>\n",
       "      <td>92300.0</td>\n",
       "      <td>INLAND</td>\n",
       "    </tr>\n",
       "    <tr>\n",
       "      <th>20638</th>\n",
       "      <td>-121.32</td>\n",
       "      <td>39.43</td>\n",
       "      <td>18.0</td>\n",
       "      <td>1860.0</td>\n",
       "      <td>409.0</td>\n",
       "      <td>741.0</td>\n",
       "      <td>349.0</td>\n",
       "      <td>1.8672</td>\n",
       "      <td>84700.0</td>\n",
       "      <td>INLAND</td>\n",
       "    </tr>\n",
       "    <tr>\n",
       "      <th>20639</th>\n",
       "      <td>-121.24</td>\n",
       "      <td>39.37</td>\n",
       "      <td>16.0</td>\n",
       "      <td>2785.0</td>\n",
       "      <td>616.0</td>\n",
       "      <td>1387.0</td>\n",
       "      <td>530.0</td>\n",
       "      <td>2.3886</td>\n",
       "      <td>89400.0</td>\n",
       "      <td>INLAND</td>\n",
       "    </tr>\n",
       "  </tbody>\n",
       "</table>\n",
       "<p>3762 rows × 10 columns</p>\n",
       "</div>"
      ],
      "text/plain": [
       "       longitude  latitude  housing_median_age  total_rooms  total_bedrooms  \\\n",
       "23       -122.27     37.84                52.0       1688.0           337.0   \n",
       "26       -122.28     37.85                49.0       1130.0           244.0   \n",
       "33       -122.27     37.83                49.0       1655.0           366.0   \n",
       "35       -122.27     37.83                49.0       1215.0           282.0   \n",
       "36       -122.27     37.83                48.0       1798.0           432.0   \n",
       "...          ...       ...                 ...          ...             ...   \n",
       "20635    -121.09     39.48                25.0       1665.0           374.0   \n",
       "20636    -121.21     39.49                18.0        697.0           150.0   \n",
       "20637    -121.22     39.43                17.0       2254.0           485.0   \n",
       "20638    -121.32     39.43                18.0       1860.0           409.0   \n",
       "20639    -121.24     39.37                16.0       2785.0           616.0   \n",
       "\n",
       "       population  households  median_income  median_house_value  \\\n",
       "23          853.0       325.0         2.1806             99700.0   \n",
       "26          607.0       239.0         2.4597             93800.0   \n",
       "33          754.0       329.0         1.3750            104900.0   \n",
       "35          570.0       264.0         1.4861             97200.0   \n",
       "36          987.0       374.0         1.0972            104500.0   \n",
       "...           ...         ...            ...                 ...   \n",
       "20635       845.0       330.0         1.5603             78100.0   \n",
       "20636       356.0       114.0         2.5568             77100.0   \n",
       "20637      1007.0       433.0         1.7000             92300.0   \n",
       "20638       741.0       349.0         1.8672             84700.0   \n",
       "20639      1387.0       530.0         2.3886             89400.0   \n",
       "\n",
       "      ocean_proximity  \n",
       "23           NEAR BAY  \n",
       "26           NEAR BAY  \n",
       "33           NEAR BAY  \n",
       "35           NEAR BAY  \n",
       "36           NEAR BAY  \n",
       "...               ...  \n",
       "20635          INLAND  \n",
       "20636          INLAND  \n",
       "20637          INLAND  \n",
       "20638          INLAND  \n",
       "20639          INLAND  \n",
       "\n",
       "[3762 rows x 10 columns]"
      ]
     },
     "execution_count": 21,
     "metadata": {},
     "output_type": "execute_result"
    }
   ],
   "source": [
    "house[(house['median_house_value'] > 50000) & (house['median_house_value'] < 105000)]"
   ]
  },
  {
   "attachments": {
    "kde.PNG": {
     "image/png": "[encoded data removed]"
    }
   },
   "cell_type": "markdown",
   "id": "58c07e4a",
   "metadata": {},
   "source": [
    "KDEs are similar to histograms, except rather than creating bins for the data, they draw\n",
    "a smoothed curve, which is an estimate of the distribution's probability density function\n",
    "(PDF). The PDF is for continuous variables and tells us how probability is distributed over\n",
    "the values. Higher values for the PDF indicate higher likelihoods\n",
    "\n",
    "![kde.PNG](attachment:kde.PNG)\n",
    "\n",
    "--------------------------------------KDE with marked measures of center                "
   ]
  },
  {
   "attachments": {
    "skewness.PNG": {
     "image/png": "[encoded data removed]"
    }
   },
   "cell_type": "markdown",
   "id": "72070a4a",
   "metadata": {},
   "source": [
    "## Skewness\n",
    "\n",
    "When the distribution starts to get a little lopsided with long tails on one side, the mean\n",
    "measure of center can easily get pulled to that side. Distributions that aren't symmetric\n",
    "have some skew to them. A left (negative) skewed distribution has a long tail on the\n",
    "left-hand side; a right (positive) skewed distribution has a long tail on the right-hand\n",
    "side. In the presence of negative skew, the mean will be less than the median, while the\n",
    "reverse happens with a positive skew. When there is no skew, both will be equal:\n",
    "![skewness.PNG](attachment:skewness.PNG)\n",
    "\n",
    "### Kurtosis\n",
    "There is also another statistic called kurtosis, which compares the density of\n",
    "the center of the distribution with the density at the tails. Both skewness and\n",
    "kurtosis can be calculated with the SciPy package"
   ]
  },
  {
   "cell_type": "code",
   "execution_count": 23,
   "id": "e007565d",
   "metadata": {},
   "outputs": [],
   "source": [
    "salary = [-1000,-200,1200,1300,1400,1500,1600]"
   ]
  },
  {
   "cell_type": "code",
   "execution_count": 24,
   "id": "ad8bea47",
   "metadata": {},
   "outputs": [],
   "source": [
    "left_salary = [-1000,-200,1200,1300,1400,1500,1600]"
   ]
  },
  {
   "cell_type": "code",
   "execution_count": 25,
   "id": "7b798425",
   "metadata": {},
   "outputs": [
    {
     "name": "stderr",
     "output_type": "stream",
     "text": [
      "C:\\Users\\codem\\AppData\\Local\\Temp\\ipykernel_6276\\358139923.py:2: UserWarning: \n",
      "\n",
      "`distplot` is a deprecated function and will be removed in seaborn v0.14.0.\n",
      "\n",
      "Please adapt your code to use either `displot` (a figure-level function with\n",
      "similar flexibility) or `histplot` (an axes-level function for histograms).\n",
      "\n",
      "For a guide to updating your code to use the new functions, please see\n",
      "https://gist.github.com/mwaskom/de44147ed2974457ad6372750bbe5751\n",
      "\n",
      "  sns.distplot(salary)\n"
     ]
    },
    {
     "data": {
      "text/plain": [
       "<Axes: ylabel='Density'>"
      ]
     },
     "execution_count": 25,
     "metadata": {},
     "output_type": "execute_result"
    },
    {
     "data": {
      "image/png": "[encoded data removed]",
      "text/plain": [
       "<Figure size 640x480 with 1 Axes>"
      ]
     },
     "metadata": {},
     "output_type": "display_data"
    }
   ],
   "source": [
    "import seaborn as sns\n",
    "sns.distplot(salary)"
   ]
  },
  {
   "cell_type": "code",
   "execution_count": 27,
   "id": "f6f96695",
   "metadata": {},
   "outputs": [],
   "source": [
    "right_salary = [1200,1300,1400,1500,1600,10000,20000]"
   ]
  },
  {
   "cell_type": "code",
   "execution_count": 28,
   "id": "a01f1da4",
   "metadata": {},
   "outputs": [
    {
     "name": "stderr",
     "output_type": "stream",
     "text": [
      "C:\\Users\\codem\\AppData\\Local\\Temp\\ipykernel_6276\\430396363.py:2: UserWarning: \n",
      "\n",
      "`distplot` is a deprecated function and will be removed in seaborn v0.14.0.\n",
      "\n",
      "Please adapt your code to use either `displot` (a figure-level function with\n",
      "similar flexibility) or `histplot` (an axes-level function for histograms).\n",
      "\n",
      "For a guide to updating your code to use the new functions, please see\n",
      "https://gist.github.com/mwaskom/de44147ed2974457ad6372750bbe5751\n",
      "\n",
      "  sns.distplot(left_salary)\n"
     ]
    },
    {
     "data": {
      "text/plain": [
       "<Axes: ylabel='Density'>"
      ]
     },
     "execution_count": 28,
     "metadata": {},
     "output_type": "execute_result"
    },
    {
     "data": {
      "image/png": "[encoded data removed]",
      "text/plain": [
       "<Figure size 640x480 with 1 Axes>"
      ]
     },
     "metadata": {},
     "output_type": "display_data"
    }
   ],
   "source": [
    "import seaborn as sns\n",
    "sns.distplot(left_salary)"
   ]
  },
  {
   "cell_type": "code",
   "execution_count": 30,
   "id": "1e97fa5c",
   "metadata": {},
   "outputs": [
    {
     "name": "stderr",
     "output_type": "stream",
     "text": [
      "C:\\Users\\codem\\AppData\\Local\\Temp\\ipykernel_6276\\1573603804.py:2: FutureWarning: Unlike other reduction functions (e.g. `skew`, `kurtosis`), the default behavior of `mode` typically preserves the axis it acts along. In SciPy 1.11.0, this behavior will change: the default value of `keepdims` will become False, the `axis` over which the statistic is taken will be eliminated, and the value None will no longer be accepted. Set `keepdims` to True or False to avoid this warning.\n",
      "  stats.mode(right_salary)[0]\n"
     ]
    },
    {
     "data": {
      "text/plain": [
       "array([1200])"
      ]
     },
     "execution_count": 30,
     "metadata": {},
     "output_type": "execute_result"
    }
   ],
   "source": [
    "from scipy import stats\n",
    "stats.mode(right_salary)[0]"
   ]
  },
  {
   "cell_type": "code",
   "execution_count": 32,
   "id": "2b46d3a1",
   "metadata": {},
   "outputs": [],
   "source": [
    "import numpy as np"
   ]
  },
  {
   "cell_type": "code",
   "execution_count": 33,
   "id": "0aa54114",
   "metadata": {},
   "outputs": [
    {
     "data": {
      "text/plain": [
       "5285.714285714285"
      ]
     },
     "execution_count": 33,
     "metadata": {},
     "output_type": "execute_result"
    }
   ],
   "source": [
    "np.mean(right_salary)"
   ]
  },
  {
   "cell_type": "code",
   "execution_count": 34,
   "id": "6bb381b1",
   "metadata": {},
   "outputs": [
    {
     "name": "stderr",
     "output_type": "stream",
     "text": [
      "C:\\Users\\codem\\AppData\\Local\\Temp\\ipykernel_6276\\2517937484.py:2: UserWarning: \n",
      "\n",
      "`distplot` is a deprecated function and will be removed in seaborn v0.14.0.\n",
      "\n",
      "Please adapt your code to use either `displot` (a figure-level function with\n",
      "similar flexibility) or `histplot` (an axes-level function for histograms).\n",
      "\n",
      "For a guide to updating your code to use the new functions, please see\n",
      "https://gist.github.com/mwaskom/de44147ed2974457ad6372750bbe5751\n",
      "\n",
      "  sns.distplot(right_salary)\n"
     ]
    },
    {
     "data": {
      "text/plain": [
       "<Axes: ylabel='Density'>"
      ]
     },
     "execution_count": 34,
     "metadata": {},
     "output_type": "execute_result"
    },
    {
     "data": {
      "image/png": "[encoded data removed]",
      "text/plain": [
       "<Figure size 640x480 with 1 Axes>"
      ]
     },
     "metadata": {},
     "output_type": "display_data"
    }
   ],
   "source": [
    "import seaborn as sns\n",
    "sns.distplot(right_salary)"
   ]
  },
  {
   "attachments": {
    "min_max_scaler.PNG": {
     "image/png": "[encoded data removed]"
    }
   },
   "cell_type": "markdown",
   "id": "6cb1f99b",
   "metadata": {},
   "source": [
    "## Scaling data\n",
    "\n",
    "In order to compare variables from different distributions, we would have to scale the\n",
    "data, which we could do with the range by using min-max scaling. We take each data\n",
    "point, subtract the minimum of the dataset, then divide by the range. This normalizes\n",
    "our data (scales it to the range [0, 1]):\n",
    "\n",
    "![min_max_scaler.PNG](attachment:min_max_scaler.PNG)"
   ]
  },
  {
   "cell_type": "code",
   "execution_count": 35,
   "id": "2cde133f",
   "metadata": {},
   "outputs": [],
   "source": [
    "from sklearn import preprocessing"
   ]
  },
  {
   "cell_type": "code",
   "execution_count": 36,
   "id": "16713e2d",
   "metadata": {},
   "outputs": [],
   "source": [
    "import numpy as np\n",
    "\n",
    "x_array = np.array([2,3,5,6,7,4,8,7,6,1000])"
   ]
  },
  {
   "cell_type": "code",
   "execution_count": 37,
   "id": "f11b172a",
   "metadata": {},
   "outputs": [
    {
     "name": "stdout",
     "output_type": "stream",
     "text": [
      "[[0.00199971 0.00299957 0.00499928 0.00599914 0.00699899 0.00399942\n",
      "  0.00799885 0.00699899 0.00599914 0.99985603]]\n"
     ]
    }
   ],
   "source": [
    "normalized_arr = preprocessing.normalize([x_array])\n",
    "print(normalized_arr)"
   ]
  },
  {
   "cell_type": "code",
   "execution_count": 38,
   "id": "f29befdf",
   "metadata": {},
   "outputs": [
    {
     "data": {
      "text/plain": [
       "0.001999712062193074"
      ]
     },
     "execution_count": 38,
     "metadata": {},
     "output_type": "execute_result"
    }
   ],
   "source": [
    "normalized_arr.min()"
   ]
  },
  {
   "cell_type": "code",
   "execution_count": 39,
   "id": "d24423b1",
   "metadata": {},
   "outputs": [
    {
     "data": {
      "text/plain": [
       "0.001999712062193074"
      ]
     },
     "execution_count": 39,
     "metadata": {},
     "output_type": "execute_result"
    }
   ],
   "source": [
    "normalized_arr.min()"
   ]
  },
  {
   "cell_type": "code",
   "execution_count": 40,
   "id": "55eb845a",
   "metadata": {},
   "outputs": [],
   "source": [
    "from sklearn.preprocessing import normalize"
   ]
  },
  {
   "cell_type": "code",
   "execution_count": 41,
   "id": "31ba11ca",
   "metadata": {},
   "outputs": [],
   "source": [
    "feat = house.loc[:100,\"longitude\":\"median_income\"]"
   ]
  },
  {
   "cell_type": "code",
   "execution_count": 42,
   "id": "8cde1c0b",
   "metadata": {},
   "outputs": [],
   "source": [
    "norm = normalize(feat)"
   ]
  },
  {
   "cell_type": "code",
   "execution_count": 43,
   "id": "b0695e2a",
   "metadata": {},
   "outputs": [
    {
     "data": {
      "text/html": [
       "<div>\n",
       "<style scoped>\n",
       "    .dataframe tbody tr th:only-of-type {\n",
       "        vertical-align: middle;\n",
       "    }\n",
       "\n",
       "    .dataframe tbody tr th {\n",
       "        vertical-align: top;\n",
       "    }\n",
       "\n",
       "    .dataframe thead th {\n",
       "        text-align: right;\n",
       "    }\n",
       "</style>\n",
       "<table border=\"1\" class=\"dataframe\">\n",
       "  <thead>\n",
       "    <tr style=\"text-align: right;\">\n",
       "      <th></th>\n",
       "      <th>longitude</th>\n",
       "      <th>latitude</th>\n",
       "      <th>housing_median_age</th>\n",
       "      <th>total_rooms</th>\n",
       "      <th>total_bedrooms</th>\n",
       "      <th>population</th>\n",
       "      <th>households</th>\n",
       "      <th>median_income</th>\n",
       "    </tr>\n",
       "  </thead>\n",
       "  <tbody>\n",
       "    <tr>\n",
       "      <th>0</th>\n",
       "      <td>-0.126833</td>\n",
       "      <td>0.039307</td>\n",
       "      <td>0.042544</td>\n",
       "      <td>0.913143</td>\n",
       "      <td>0.133858</td>\n",
       "      <td>0.334127</td>\n",
       "      <td>0.130745</td>\n",
       "      <td>0.008639</td>\n",
       "    </tr>\n",
       "    <tr>\n",
       "      <th>1</th>\n",
       "      <td>-0.015953</td>\n",
       "      <td>0.004942</td>\n",
       "      <td>0.002741</td>\n",
       "      <td>0.926603</td>\n",
       "      <td>0.144362</td>\n",
       "      <td>0.313393</td>\n",
       "      <td>0.148538</td>\n",
       "      <td>0.001084</td>\n",
       "    </tr>\n",
       "    <tr>\n",
       "      <th>2</th>\n",
       "      <td>-0.077550</td>\n",
       "      <td>0.024012</td>\n",
       "      <td>0.032989</td>\n",
       "      <td>0.930671</td>\n",
       "      <td>0.120537</td>\n",
       "      <td>0.314664</td>\n",
       "      <td>0.112290</td>\n",
       "      <td>0.004604</td>\n",
       "    </tr>\n",
       "    <tr>\n",
       "      <th>3</th>\n",
       "      <td>-0.085243</td>\n",
       "      <td>0.026392</td>\n",
       "      <td>0.036259</td>\n",
       "      <td>0.888341</td>\n",
       "      <td>0.163862</td>\n",
       "      <td>0.389085</td>\n",
       "      <td>0.152705</td>\n",
       "      <td>0.003935</td>\n",
       "    </tr>\n",
       "    <tr>\n",
       "      <th>4</th>\n",
       "      <td>-0.069090</td>\n",
       "      <td>0.021391</td>\n",
       "      <td>0.029388</td>\n",
       "      <td>0.919498</td>\n",
       "      <td>0.158242</td>\n",
       "      <td>0.319309</td>\n",
       "      <td>0.146374</td>\n",
       "      <td>0.002174</td>\n",
       "    </tr>\n",
       "    <tr>\n",
       "      <th>...</th>\n",
       "      <td>...</td>\n",
       "      <td>...</td>\n",
       "      <td>...</td>\n",
       "      <td>...</td>\n",
       "      <td>...</td>\n",
       "      <td>...</td>\n",
       "      <td>...</td>\n",
       "      <td>...</td>\n",
       "    </tr>\n",
       "    <tr>\n",
       "      <th>96</th>\n",
       "      <td>-0.022902</td>\n",
       "      <td>0.007084</td>\n",
       "      <td>0.005807</td>\n",
       "      <td>0.860927</td>\n",
       "      <td>0.249324</td>\n",
       "      <td>0.383633</td>\n",
       "      <td>0.221039</td>\n",
       "      <td>0.000531</td>\n",
       "    </tr>\n",
       "    <tr>\n",
       "      <th>97</th>\n",
       "      <td>-0.280498</td>\n",
       "      <td>0.086746</td>\n",
       "      <td>0.066534</td>\n",
       "      <td>0.768581</td>\n",
       "      <td>0.245487</td>\n",
       "      <td>0.463443</td>\n",
       "      <td>0.208779</td>\n",
       "      <td>0.004603</td>\n",
       "    </tr>\n",
       "    <tr>\n",
       "      <th>98</th>\n",
       "      <td>-0.026778</td>\n",
       "      <td>0.008283</td>\n",
       "      <td>0.004818</td>\n",
       "      <td>0.806441</td>\n",
       "      <td>0.278159</td>\n",
       "      <td>0.443302</td>\n",
       "      <td>0.273778</td>\n",
       "      <td>0.000267</td>\n",
       "    </tr>\n",
       "    <tr>\n",
       "      <th>99</th>\n",
       "      <td>-0.028248</td>\n",
       "      <td>0.008738</td>\n",
       "      <td>0.008549</td>\n",
       "      <td>0.839401</td>\n",
       "      <td>0.250688</td>\n",
       "      <td>0.424668</td>\n",
       "      <td>0.226428</td>\n",
       "      <td>0.000603</td>\n",
       "    </tr>\n",
       "    <tr>\n",
       "      <th>100</th>\n",
       "      <td>-0.022112</td>\n",
       "      <td>0.006839</td>\n",
       "      <td>0.005245</td>\n",
       "      <td>0.842160</td>\n",
       "      <td>0.255759</td>\n",
       "      <td>0.416739</td>\n",
       "      <td>0.226095</td>\n",
       "      <td>0.000451</td>\n",
       "    </tr>\n",
       "  </tbody>\n",
       "</table>\n",
       "<p>101 rows × 8 columns</p>\n",
       "</div>"
      ],
      "text/plain": [
       "     longitude  latitude  housing_median_age  total_rooms  total_bedrooms  \\\n",
       "0    -0.126833  0.039307            0.042544     0.913143        0.133858   \n",
       "1    -0.015953  0.004942            0.002741     0.926603        0.144362   \n",
       "2    -0.077550  0.024012            0.032989     0.930671        0.120537   \n",
       "3    -0.085243  0.026392            0.036259     0.888341        0.163862   \n",
       "4    -0.069090  0.021391            0.029388     0.919498        0.158242   \n",
       "..         ...       ...                 ...          ...             ...   \n",
       "96   -0.022902  0.007084            0.005807     0.860927        0.249324   \n",
       "97   -0.280498  0.086746            0.066534     0.768581        0.245487   \n",
       "98   -0.026778  0.008283            0.004818     0.806441        0.278159   \n",
       "99   -0.028248  0.008738            0.008549     0.839401        0.250688   \n",
       "100  -0.022112  0.006839            0.005245     0.842160        0.255759   \n",
       "\n",
       "     population  households  median_income  \n",
       "0      0.334127    0.130745       0.008639  \n",
       "1      0.313393    0.148538       0.001084  \n",
       "2      0.314664    0.112290       0.004604  \n",
       "3      0.389085    0.152705       0.003935  \n",
       "4      0.319309    0.146374       0.002174  \n",
       "..          ...         ...            ...  \n",
       "96     0.383633    0.221039       0.000531  \n",
       "97     0.463443    0.208779       0.004603  \n",
       "98     0.443302    0.273778       0.000267  \n",
       "99     0.424668    0.226428       0.000603  \n",
       "100    0.416739    0.226095       0.000451  \n",
       "\n",
       "[101 rows x 8 columns]"
      ]
     },
     "execution_count": 43,
     "metadata": {},
     "output_type": "execute_result"
    }
   ],
   "source": [
    "out=pd.DataFrame(norm,columns=feat.columns)\n",
    "out"
   ]
  },
  {
   "attachments": {
    "z_score.PNG": {
     "image/png": "[encoded data removed]"
    }
   },
   "cell_type": "markdown",
   "id": "b0c6bc81",
   "metadata": {},
   "source": [
    "This isn't the only way to scale data; we can also use the mean and standard deviation.\n",
    "In this case, we would subtract the mean from each observation and then divide by the\n",
    "standard deviation to standardize the data. This gives us what is known as a Z-score\n",
    "\n",
    "![z_score.PNG](attachment:z_score.PNG)\n",
    "\n",
    "We are left with a normalized distribution with a mean of 0 and a standard deviation\n",
    "(and variance) of 1. The Z-score tells us how many standard deviations from the mean\n",
    "each observation is; the mean has a Z-score of 0, while an observation of 0.5 standard\n",
    "deviations below the mean will have a Z-score of -0.5.\n",
    "\n",
    "There are, of course, additional ways to scale our data, and the one we end up choosing\n",
    "will be dependent on our data and what we are trying to do with it. By keeping the\n",
    "measures of central tendency and measures of dispersion in mind, you will be able to\n",
    "identify how the scaling of data is being done in any other methods you come across"
   ]
  },
  {
   "cell_type": "code",
   "execution_count": 44,
   "id": "6433e5db",
   "metadata": {},
   "outputs": [
    {
     "data": {
      "text/html": [
       "<div>\n",
       "<style scoped>\n",
       "    .dataframe tbody tr th:only-of-type {\n",
       "        vertical-align: middle;\n",
       "    }\n",
       "\n",
       "    .dataframe tbody tr th {\n",
       "        vertical-align: top;\n",
       "    }\n",
       "\n",
       "    .dataframe thead th {\n",
       "        text-align: right;\n",
       "    }\n",
       "</style>\n",
       "<table border=\"1\" class=\"dataframe\">\n",
       "  <thead>\n",
       "    <tr style=\"text-align: right;\">\n",
       "      <th></th>\n",
       "      <th>population</th>\n",
       "      <th>households</th>\n",
       "    </tr>\n",
       "  </thead>\n",
       "  <tbody>\n",
       "    <tr>\n",
       "      <th>0</th>\n",
       "      <td>322.0</td>\n",
       "      <td>126.0</td>\n",
       "    </tr>\n",
       "    <tr>\n",
       "      <th>1</th>\n",
       "      <td>2401.0</td>\n",
       "      <td>1138.0</td>\n",
       "    </tr>\n",
       "    <tr>\n",
       "      <th>2</th>\n",
       "      <td>496.0</td>\n",
       "      <td>177.0</td>\n",
       "    </tr>\n",
       "    <tr>\n",
       "      <th>3</th>\n",
       "      <td>558.0</td>\n",
       "      <td>219.0</td>\n",
       "    </tr>\n",
       "    <tr>\n",
       "      <th>4</th>\n",
       "      <td>565.0</td>\n",
       "      <td>259.0</td>\n",
       "    </tr>\n",
       "    <tr>\n",
       "      <th>...</th>\n",
       "      <td>...</td>\n",
       "      <td>...</td>\n",
       "    </tr>\n",
       "    <tr>\n",
       "      <th>96</th>\n",
       "      <td>2048.0</td>\n",
       "      <td>1180.0</td>\n",
       "    </tr>\n",
       "    <tr>\n",
       "      <th>97</th>\n",
       "      <td>202.0</td>\n",
       "      <td>91.0</td>\n",
       "    </tr>\n",
       "    <tr>\n",
       "      <th>98</th>\n",
       "      <td>2024.0</td>\n",
       "      <td>1250.0</td>\n",
       "    </tr>\n",
       "    <tr>\n",
       "      <th>99</th>\n",
       "      <td>1838.0</td>\n",
       "      <td>980.0</td>\n",
       "    </tr>\n",
       "    <tr>\n",
       "      <th>100</th>\n",
       "      <td>2304.0</td>\n",
       "      <td>1250.0</td>\n",
       "    </tr>\n",
       "  </tbody>\n",
       "</table>\n",
       "<p>101 rows × 2 columns</p>\n",
       "</div>"
      ],
      "text/plain": [
       "     population  households\n",
       "0         322.0       126.0\n",
       "1        2401.0      1138.0\n",
       "2         496.0       177.0\n",
       "3         558.0       219.0\n",
       "4         565.0       259.0\n",
       "..          ...         ...\n",
       "96       2048.0      1180.0\n",
       "97        202.0        91.0\n",
       "98       2024.0      1250.0\n",
       "99       1838.0       980.0\n",
       "100      2304.0      1250.0\n",
       "\n",
       "[101 rows x 2 columns]"
      ]
     },
     "execution_count": 44,
     "metadata": {},
     "output_type": "execute_result"
    }
   ],
   "source": [
    "sc=house.loc[:100,[\"population\",\"households\"]]\n",
    "sc"
   ]
  },
  {
   "cell_type": "code",
   "execution_count": 45,
   "id": "124170e4",
   "metadata": {},
   "outputs": [
    {
     "data": {
      "text/html": [
       "<div>\n",
       "<style scoped>\n",
       "    .dataframe tbody tr th:only-of-type {\n",
       "        vertical-align: middle;\n",
       "    }\n",
       "\n",
       "    .dataframe tbody tr th {\n",
       "        vertical-align: top;\n",
       "    }\n",
       "\n",
       "    .dataframe thead th {\n",
       "        text-align: right;\n",
       "    }\n",
       "</style>\n",
       "<table border=\"1\" class=\"dataframe\">\n",
       "  <thead>\n",
       "    <tr style=\"text-align: right;\">\n",
       "      <th></th>\n",
       "      <th>population</th>\n",
       "      <th>households</th>\n",
       "    </tr>\n",
       "  </thead>\n",
       "  <tbody>\n",
       "    <tr>\n",
       "      <th>0</th>\n",
       "      <td>322.0</td>\n",
       "      <td>126.0</td>\n",
       "    </tr>\n",
       "    <tr>\n",
       "      <th>1</th>\n",
       "      <td>2401.0</td>\n",
       "      <td>1138.0</td>\n",
       "    </tr>\n",
       "    <tr>\n",
       "      <th>2</th>\n",
       "      <td>496.0</td>\n",
       "      <td>177.0</td>\n",
       "    </tr>\n",
       "    <tr>\n",
       "      <th>3</th>\n",
       "      <td>558.0</td>\n",
       "      <td>219.0</td>\n",
       "    </tr>\n",
       "    <tr>\n",
       "      <th>4</th>\n",
       "      <td>565.0</td>\n",
       "      <td>259.0</td>\n",
       "    </tr>\n",
       "    <tr>\n",
       "      <th>...</th>\n",
       "      <td>...</td>\n",
       "      <td>...</td>\n",
       "    </tr>\n",
       "    <tr>\n",
       "      <th>96</th>\n",
       "      <td>2048.0</td>\n",
       "      <td>1180.0</td>\n",
       "    </tr>\n",
       "    <tr>\n",
       "      <th>97</th>\n",
       "      <td>202.0</td>\n",
       "      <td>91.0</td>\n",
       "    </tr>\n",
       "    <tr>\n",
       "      <th>98</th>\n",
       "      <td>2024.0</td>\n",
       "      <td>1250.0</td>\n",
       "    </tr>\n",
       "    <tr>\n",
       "      <th>99</th>\n",
       "      <td>1838.0</td>\n",
       "      <td>980.0</td>\n",
       "    </tr>\n",
       "    <tr>\n",
       "      <th>100</th>\n",
       "      <td>2304.0</td>\n",
       "      <td>1250.0</td>\n",
       "    </tr>\n",
       "  </tbody>\n",
       "</table>\n",
       "<p>101 rows × 2 columns</p>\n",
       "</div>"
      ],
      "text/plain": [
       "     population  households\n",
       "0         322.0       126.0\n",
       "1        2401.0      1138.0\n",
       "2         496.0       177.0\n",
       "3         558.0       219.0\n",
       "4         565.0       259.0\n",
       "..          ...         ...\n",
       "96       2048.0      1180.0\n",
       "97        202.0        91.0\n",
       "98       2024.0      1250.0\n",
       "99       1838.0       980.0\n",
       "100      2304.0      1250.0\n",
       "\n",
       "[101 rows x 2 columns]"
      ]
     },
     "execution_count": 45,
     "metadata": {},
     "output_type": "execute_result"
    }
   ],
   "source": [
    "sc=house.loc[:100,[\"population\",\"households\"]]\n",
    "sc"
   ]
  },
  {
   "cell_type": "code",
   "execution_count": 46,
   "id": "805702fd",
   "metadata": {},
   "outputs": [],
   "source": [
    "norm_data = normalize(sc)"
   ]
  },
  {
   "cell_type": "code",
   "execution_count": 48,
   "id": "6dcbb02e",
   "metadata": {},
   "outputs": [
    {
     "data": {
      "text/html": [
       "<div>\n",
       "<style scoped>\n",
       "    .dataframe tbody tr th:only-of-type {\n",
       "        vertical-align: middle;\n",
       "    }\n",
       "\n",
       "    .dataframe tbody tr th {\n",
       "        vertical-align: top;\n",
       "    }\n",
       "\n",
       "    .dataframe thead th {\n",
       "        text-align: right;\n",
       "    }\n",
       "</style>\n",
       "<table border=\"1\" class=\"dataframe\">\n",
       "  <thead>\n",
       "    <tr style=\"text-align: right;\">\n",
       "      <th></th>\n",
       "      <th>population</th>\n",
       "      <th>households</th>\n",
       "    </tr>\n",
       "  </thead>\n",
       "  <tbody>\n",
       "    <tr>\n",
       "      <th>0</th>\n",
       "      <td>0.931243</td>\n",
       "      <td>0.364399</td>\n",
       "    </tr>\n",
       "    <tr>\n",
       "      <th>1</th>\n",
       "      <td>0.903638</td>\n",
       "      <td>0.428297</td>\n",
       "    </tr>\n",
       "    <tr>\n",
       "      <th>2</th>\n",
       "      <td>0.941828</td>\n",
       "      <td>0.336096</td>\n",
       "    </tr>\n",
       "    <tr>\n",
       "      <th>3</th>\n",
       "      <td>0.930873</td>\n",
       "      <td>0.365343</td>\n",
       "    </tr>\n",
       "    <tr>\n",
       "      <th>4</th>\n",
       "      <td>0.909039</td>\n",
       "      <td>0.416710</td>\n",
       "    </tr>\n",
       "  </tbody>\n",
       "</table>\n",
       "</div>"
      ],
      "text/plain": [
       "   population  households\n",
       "0    0.931243    0.364399\n",
       "1    0.903638    0.428297\n",
       "2    0.941828    0.336096\n",
       "3    0.930873    0.365343\n",
       "4    0.909039    0.416710"
      ]
     },
     "execution_count": 48,
     "metadata": {},
     "output_type": "execute_result"
    }
   ],
   "source": [
    "norm_data=pd.DataFrame(norm_data,columns=sc.columns)\n",
    "norm_data.head()"
   ]
  },
  {
   "cell_type": "code",
   "execution_count": 50,
   "id": "dbf8073d",
   "metadata": {},
   "outputs": [],
   "source": [
    "from sklearn.preprocessing import StandardScaler"
   ]
  },
  {
   "cell_type": "code",
   "execution_count": 51,
   "id": "ad2184b1",
   "metadata": {},
   "outputs": [],
   "source": [
    "scaler = StandardScaler()"
   ]
  },
  {
   "cell_type": "code",
   "execution_count": 52,
   "id": "f91f7743",
   "metadata": {},
   "outputs": [
    {
     "data": {
      "text/plain": [
       "StandardScaler()"
      ]
     },
     "execution_count": 52,
     "metadata": {},
     "output_type": "execute_result"
    }
   ],
   "source": [
    "scaler.fit(sc)"
   ]
  },
  {
   "cell_type": "code",
   "execution_count": 53,
   "id": "a98baf93",
   "metadata": {},
   "outputs": [],
   "source": [
    "scaled_data=scaler.transform(sc)"
   ]
  },
  {
   "cell_type": "code",
   "execution_count": 54,
   "id": "4fb95798",
   "metadata": {},
   "outputs": [
    {
     "data": {
      "text/html": [
       "<div>\n",
       "<style scoped>\n",
       "    .dataframe tbody tr th:only-of-type {\n",
       "        vertical-align: middle;\n",
       "    }\n",
       "\n",
       "    .dataframe tbody tr th {\n",
       "        vertical-align: top;\n",
       "    }\n",
       "\n",
       "    .dataframe thead th {\n",
       "        text-align: right;\n",
       "    }\n",
       "</style>\n",
       "<table border=\"1\" class=\"dataframe\">\n",
       "  <thead>\n",
       "    <tr style=\"text-align: right;\">\n",
       "      <th></th>\n",
       "      <th>population</th>\n",
       "      <th>households</th>\n",
       "    </tr>\n",
       "  </thead>\n",
       "  <tbody>\n",
       "    <tr>\n",
       "      <th>0</th>\n",
       "      <td>-0.900193</td>\n",
       "      <td>-0.729693</td>\n",
       "    </tr>\n",
       "    <tr>\n",
       "      <th>1</th>\n",
       "      <td>2.896183</td>\n",
       "      <td>2.450430</td>\n",
       "    </tr>\n",
       "    <tr>\n",
       "      <th>2</th>\n",
       "      <td>-0.582458</td>\n",
       "      <td>-0.569430</td>\n",
       "    </tr>\n",
       "    <tr>\n",
       "      <th>3</th>\n",
       "      <td>-0.469243</td>\n",
       "      <td>-0.437449</td>\n",
       "    </tr>\n",
       "    <tr>\n",
       "      <th>4</th>\n",
       "      <td>-0.456460</td>\n",
       "      <td>-0.311752</td>\n",
       "    </tr>\n",
       "    <tr>\n",
       "      <th>...</th>\n",
       "      <td>...</td>\n",
       "      <td>...</td>\n",
       "    </tr>\n",
       "    <tr>\n",
       "      <th>96</th>\n",
       "      <td>2.251585</td>\n",
       "      <td>2.582411</td>\n",
       "    </tr>\n",
       "    <tr>\n",
       "      <th>97</th>\n",
       "      <td>-1.119320</td>\n",
       "      <td>-0.839678</td>\n",
       "    </tr>\n",
       "    <tr>\n",
       "      <th>98</th>\n",
       "      <td>2.207759</td>\n",
       "      <td>2.802380</td>\n",
       "    </tr>\n",
       "    <tr>\n",
       "      <th>99</th>\n",
       "      <td>1.868112</td>\n",
       "      <td>1.953928</td>\n",
       "    </tr>\n",
       "    <tr>\n",
       "      <th>100</th>\n",
       "      <td>2.719056</td>\n",
       "      <td>2.802380</td>\n",
       "    </tr>\n",
       "  </tbody>\n",
       "</table>\n",
       "<p>101 rows × 2 columns</p>\n",
       "</div>"
      ],
      "text/plain": [
       "     population  households\n",
       "0     -0.900193   -0.729693\n",
       "1      2.896183    2.450430\n",
       "2     -0.582458   -0.569430\n",
       "3     -0.469243   -0.437449\n",
       "4     -0.456460   -0.311752\n",
       "..          ...         ...\n",
       "96     2.251585    2.582411\n",
       "97    -1.119320   -0.839678\n",
       "98     2.207759    2.802380\n",
       "99     1.868112    1.953928\n",
       "100    2.719056    2.802380\n",
       "\n",
       "[101 rows x 2 columns]"
      ]
     },
     "execution_count": 54,
     "metadata": {},
     "output_type": "execute_result"
    }
   ],
   "source": [
    "out=pd.DataFrame(scaled_data,columns=sc.columns)\n",
    "out"
   ]
  },
  {
   "cell_type": "code",
   "execution_count": 55,
   "id": "0587dace",
   "metadata": {},
   "outputs": [],
   "source": [
    "import numpy as np\n",
    "from sklearn.preprocessing import StandardScaler\n",
    "\n",
    "x_array = np.array([2,3,5,6,7,4,8,7,6])\n",
    "\n",
    "scaler = StandardScaler()"
   ]
  },
  {
   "cell_type": "code",
   "execution_count": 56,
   "id": "a8d7e576",
   "metadata": {},
   "outputs": [],
   "source": [
    "scaled_valeus=scaler.fit_transform(x_array.reshape(-1,1))"
   ]
  },
  {
   "cell_type": "code",
   "execution_count": 57,
   "id": "d5660d4e",
   "metadata": {},
   "outputs": [
    {
     "data": {
      "text/plain": [
       "1.0"
      ]
     },
     "execution_count": 57,
     "metadata": {},
     "output_type": "execute_result"
    }
   ],
   "source": [
    "scaled_valeus.std()"
   ]
  },
  {
   "cell_type": "markdown",
   "id": "f0007e36",
   "metadata": {},
   "source": [
    "### Quantifying relationships between variables"
   ]
  },
  {
   "attachments": {
    "covariance.PNG": {
     "image/png": "[encoded data removed]"
    }
   },
   "cell_type": "markdown",
   "id": "5a6b4a25",
   "metadata": {},
   "source": [
    "In the previous sections, we were dealing with univariate statistics and were only able\n",
    "to say something about the variable we were looking at. With multivariate statistics, we\n",
    "seek to quantify relationships between variables and attempt to make predictions for\n",
    "future behavior.\n",
    "### Covariance\n",
    "The covariance is a statistic for quantifying the relationship between variables by showing\n",
    "how one variable changes with respect to another (also referred to as their joint variance):\n",
    "![covariance.PNG](attachment:covariance.PNG)\n",
    "\n",
    "`E[X] is read as the expected value of X or the\n",
    "expectation of X, and it is calculated by summing all the possible values of X\n",
    "multiplied by their probability—it's the long-run average of X.`\n",
    "\n",
    "The magnitude of the covariance isn't easy to interpret, but its sign tells us whether the\n",
    "variables are positively or negatively correlated."
   ]
  },
  {
   "cell_type": "code",
   "execution_count": 58,
   "id": "c64419b5",
   "metadata": {},
   "outputs": [
    {
     "name": "stdout",
     "output_type": "stream",
     "text": [
      "Covariance: 150.60000000000002\n"
     ]
    }
   ],
   "source": [
    "import numpy as np\n",
    "\n",
    "# Sample data\n",
    "# x = np.array([1, 2, 3, 4, 5])\n",
    "# y = np.array([2, 4, 6, 8, 10])\n",
    "# x = np.array([1, 2, 3, 4, 5])\n",
    "# y = np.array([10, 8, 6, 4, 2])\n",
    "x = np.array([1, 5, 67, 40, -5])\n",
    "y = np.array([20, 4, -6, 88, 10])\n",
    "\n",
    "# Calculate covariance\n",
    "covariance = np.cov(x, y)[0, 1]\n",
    "\n",
    "print(\"Covariance:\", covariance)"
   ]
  },
  {
   "cell_type": "code",
   "execution_count": 59,
   "id": "65368030",
   "metadata": {},
   "outputs": [
    {
     "data": {
      "text/html": [
       "<div>\n",
       "<style scoped>\n",
       "    .dataframe tbody tr th:only-of-type {\n",
       "        vertical-align: middle;\n",
       "    }\n",
       "\n",
       "    .dataframe tbody tr th {\n",
       "        vertical-align: top;\n",
       "    }\n",
       "\n",
       "    .dataframe thead th {\n",
       "        text-align: right;\n",
       "    }\n",
       "</style>\n",
       "<table border=\"1\" class=\"dataframe\">\n",
       "  <thead>\n",
       "    <tr style=\"text-align: right;\">\n",
       "      <th></th>\n",
       "      <th>longitude</th>\n",
       "      <th>latitude</th>\n",
       "      <th>housing_median_age</th>\n",
       "      <th>total_rooms</th>\n",
       "      <th>total_bedrooms</th>\n",
       "      <th>population</th>\n",
       "      <th>households</th>\n",
       "      <th>median_income</th>\n",
       "      <th>median_house_value</th>\n",
       "      <th>ocean_proximity</th>\n",
       "    </tr>\n",
       "  </thead>\n",
       "  <tbody>\n",
       "    <tr>\n",
       "      <th>0</th>\n",
       "      <td>-122.23</td>\n",
       "      <td>37.88</td>\n",
       "      <td>41.0</td>\n",
       "      <td>880.0</td>\n",
       "      <td>129.0</td>\n",
       "      <td>322.0</td>\n",
       "      <td>126.0</td>\n",
       "      <td>8.3252</td>\n",
       "      <td>452600.0</td>\n",
       "      <td>NEAR BAY</td>\n",
       "    </tr>\n",
       "    <tr>\n",
       "      <th>1</th>\n",
       "      <td>-122.22</td>\n",
       "      <td>37.86</td>\n",
       "      <td>21.0</td>\n",
       "      <td>7099.0</td>\n",
       "      <td>1106.0</td>\n",
       "      <td>2401.0</td>\n",
       "      <td>1138.0</td>\n",
       "      <td>8.3014</td>\n",
       "      <td>358500.0</td>\n",
       "      <td>NEAR BAY</td>\n",
       "    </tr>\n",
       "    <tr>\n",
       "      <th>2</th>\n",
       "      <td>-122.24</td>\n",
       "      <td>37.85</td>\n",
       "      <td>52.0</td>\n",
       "      <td>1467.0</td>\n",
       "      <td>190.0</td>\n",
       "      <td>496.0</td>\n",
       "      <td>177.0</td>\n",
       "      <td>7.2574</td>\n",
       "      <td>352100.0</td>\n",
       "      <td>NEAR BAY</td>\n",
       "    </tr>\n",
       "    <tr>\n",
       "      <th>3</th>\n",
       "      <td>-122.25</td>\n",
       "      <td>37.85</td>\n",
       "      <td>52.0</td>\n",
       "      <td>1274.0</td>\n",
       "      <td>235.0</td>\n",
       "      <td>558.0</td>\n",
       "      <td>219.0</td>\n",
       "      <td>5.6431</td>\n",
       "      <td>341300.0</td>\n",
       "      <td>NEAR BAY</td>\n",
       "    </tr>\n",
       "    <tr>\n",
       "      <th>4</th>\n",
       "      <td>-122.25</td>\n",
       "      <td>37.85</td>\n",
       "      <td>52.0</td>\n",
       "      <td>1627.0</td>\n",
       "      <td>280.0</td>\n",
       "      <td>565.0</td>\n",
       "      <td>259.0</td>\n",
       "      <td>3.8462</td>\n",
       "      <td>342200.0</td>\n",
       "      <td>NEAR BAY</td>\n",
       "    </tr>\n",
       "  </tbody>\n",
       "</table>\n",
       "</div>"
      ],
      "text/plain": [
       "   longitude  latitude  housing_median_age  total_rooms  total_bedrooms  \\\n",
       "0    -122.23     37.88                41.0        880.0           129.0   \n",
       "1    -122.22     37.86                21.0       7099.0          1106.0   \n",
       "2    -122.24     37.85                52.0       1467.0           190.0   \n",
       "3    -122.25     37.85                52.0       1274.0           235.0   \n",
       "4    -122.25     37.85                52.0       1627.0           280.0   \n",
       "\n",
       "   population  households  median_income  median_house_value ocean_proximity  \n",
       "0       322.0       126.0         8.3252            452600.0        NEAR BAY  \n",
       "1      2401.0      1138.0         8.3014            358500.0        NEAR BAY  \n",
       "2       496.0       177.0         7.2574            352100.0        NEAR BAY  \n",
       "3       558.0       219.0         5.6431            341300.0        NEAR BAY  \n",
       "4       565.0       259.0         3.8462            342200.0        NEAR BAY  "
      ]
     },
     "execution_count": 59,
     "metadata": {},
     "output_type": "execute_result"
    }
   ],
   "source": [
    "import pandas as pd\n",
    "data = pd.read_csv('housing.csv')\n",
    "data.head()"
   ]
  },
  {
   "cell_type": "code",
   "execution_count": 60,
   "id": "259b58a3",
   "metadata": {},
   "outputs": [],
   "source": [
    "x=np.array(data.loc[:100,'total_rooms'])\n",
    "y=np.array(data.loc[:100,'total_bedrooms'])"
   ]
  },
  {
   "cell_type": "code",
   "execution_count": 61,
   "id": "4eb4a3fa",
   "metadata": {},
   "outputs": [
    {
     "data": {
      "text/plain": [
       "array([[1366728.66871287,  349075.5370297 ],\n",
       "       [ 349075.5370297 ,  115341.70237624]])"
      ]
     },
     "execution_count": 61,
     "metadata": {},
     "output_type": "execute_result"
    }
   ],
   "source": [
    "np.cov(x,y)"
   ]
  },
  {
   "cell_type": "markdown",
   "id": "3e78b417",
   "metadata": {},
   "source": [
    "- A covariance of 5 means that, on average, when one variable increases by a unit, the other variable tends to increase by 5 units. Similarly, when one variable decreases by a unit, the other variable tends to decrease by 5 units. The sign of the covariance (+ or -) indicates the direction of the relationship, which in this case is positive.\n",
    "\n",
    "- A covariance of -5 means that, on average, when one variable increases by a unit, the other variable tends to decrease by 5 units. Similarly, when one variable decreases by a unit, the other variable tends to increase by 5 units\n",
    "- A covariance of 150 means that, on average, when one variable increases by a unit, the other variable tends to increase by 150 units. Similarly, when one variable decreases by a unit, the other variable tends to decrease by 150 units. The positive sign of the covariance indicates the direction of the relationship, which is positive."
   ]
  },
  {
   "attachments": {
    "correlation.PNG": {
     "image/png": "[encoded data removed]"
    }
   },
   "cell_type": "markdown",
   "id": "e37c23d4",
   "metadata": {},
   "source": [
    "However, we would also like to quantify\n",
    "how strong the relationship is between the variables, which brings us to correlation.\n",
    "### Correlation\n",
    "Correlation tells us how variables change together both in direction (same or opposite)\n",
    "and magnitude (strength of the relationship). To find the correlation, we calculate the\n",
    "Pearson correlation coefficient, symbolized by ρ (the Greek letter rho), by dividing the\n",
    "covariance by the product of the standard deviations of the variables:\n",
    "\n",
    "![correlation.PNG](attachment:correlation.PNG)"
   ]
  },
  {
   "cell_type": "code",
   "execution_count": 62,
   "id": "e0162139",
   "metadata": {},
   "outputs": [
    {
     "name": "stdout",
     "output_type": "stream",
     "text": [
      "Correlation coefficient: -0.13743286200523808\n"
     ]
    }
   ],
   "source": [
    "import numpy as np\n",
    "\n",
    "# Sample data\n",
    "# x = np.array([1, 2, 3, 4, 5])\n",
    "# y = np.array([2, 4, 6, 8, 10])\n",
    "# x = np.array([1, 2, 3, 4, 5])\n",
    "# y = np.array([5, 4, 3, 2, 1])\n",
    "# x = np.array([1, 2, 3, 4, 5])\n",
    "# y = np.array([53, 4, 32, 12, 111])\n",
    "x = np.array([1,7,3,2,9,3,5])\n",
    "y = np.array([9,3,6,3,5,1,9])\n",
    "\n",
    "# Calculate correlation coefficient\n",
    "correlation = np.corrcoef(x, y)[0, 1]\n",
    "\n",
    "print(\"Correlation coefficient:\", correlation)"
   ]
  },
  {
   "cell_type": "code",
   "execution_count": 63,
   "id": "a0a84bb7",
   "metadata": {},
   "outputs": [
    {
     "name": "stderr",
     "output_type": "stream",
     "text": [
      "C:\\Users\\codem\\AppData\\Local\\Temp\\ipykernel_6276\\4160222029.py:1: FutureWarning: The default value of numeric_only in DataFrame.corr is deprecated. In a future version, it will default to False. Select only valid columns or specify the value of numeric_only to silence this warning.\n",
      "  data.loc[:100].corr()\n"
     ]
    },
    {
     "data": {
      "text/html": [
       "<div>\n",
       "<style scoped>\n",
       "    .dataframe tbody tr th:only-of-type {\n",
       "        vertical-align: middle;\n",
       "    }\n",
       "\n",
       "    .dataframe tbody tr th {\n",
       "        vertical-align: top;\n",
       "    }\n",
       "\n",
       "    .dataframe thead th {\n",
       "        text-align: right;\n",
       "    }\n",
       "</style>\n",
       "<table border=\"1\" class=\"dataframe\">\n",
       "  <thead>\n",
       "    <tr style=\"text-align: right;\">\n",
       "      <th></th>\n",
       "      <th>longitude</th>\n",
       "      <th>latitude</th>\n",
       "      <th>housing_median_age</th>\n",
       "      <th>total_rooms</th>\n",
       "      <th>total_bedrooms</th>\n",
       "      <th>population</th>\n",
       "      <th>households</th>\n",
       "      <th>median_income</th>\n",
       "      <th>median_house_value</th>\n",
       "    </tr>\n",
       "  </thead>\n",
       "  <tbody>\n",
       "    <tr>\n",
       "      <th>longitude</th>\n",
       "      <td>1.000000</td>\n",
       "      <td>0.563903</td>\n",
       "      <td>0.013050</td>\n",
       "      <td>0.484023</td>\n",
       "      <td>0.374392</td>\n",
       "      <td>0.360577</td>\n",
       "      <td>0.401599</td>\n",
       "      <td>0.593594</td>\n",
       "      <td>0.748607</td>\n",
       "    </tr>\n",
       "    <tr>\n",
       "      <th>latitude</th>\n",
       "      <td>0.563903</td>\n",
       "      <td>1.000000</td>\n",
       "      <td>0.361931</td>\n",
       "      <td>0.267855</td>\n",
       "      <td>0.024315</td>\n",
       "      <td>0.081600</td>\n",
       "      <td>0.060933</td>\n",
       "      <td>0.550010</td>\n",
       "      <td>0.397242</td>\n",
       "    </tr>\n",
       "    <tr>\n",
       "      <th>housing_median_age</th>\n",
       "      <td>0.013050</td>\n",
       "      <td>0.361931</td>\n",
       "      <td>1.000000</td>\n",
       "      <td>-0.064694</td>\n",
       "      <td>-0.165130</td>\n",
       "      <td>-0.093265</td>\n",
       "      <td>-0.167641</td>\n",
       "      <td>0.077259</td>\n",
       "      <td>0.002230</td>\n",
       "    </tr>\n",
       "    <tr>\n",
       "      <th>total_rooms</th>\n",
       "      <td>0.484023</td>\n",
       "      <td>0.267855</td>\n",
       "      <td>-0.064694</td>\n",
       "      <td>1.000000</td>\n",
       "      <td>0.879195</td>\n",
       "      <td>0.925953</td>\n",
       "      <td>0.888455</td>\n",
       "      <td>0.308664</td>\n",
       "      <td>0.277680</td>\n",
       "    </tr>\n",
       "    <tr>\n",
       "      <th>total_bedrooms</th>\n",
       "      <td>0.374392</td>\n",
       "      <td>0.024315</td>\n",
       "      <td>-0.165130</td>\n",
       "      <td>0.879195</td>\n",
       "      <td>1.000000</td>\n",
       "      <td>0.949000</td>\n",
       "      <td>0.995437</td>\n",
       "      <td>0.085209</td>\n",
       "      <td>0.155500</td>\n",
       "    </tr>\n",
       "    <tr>\n",
       "      <th>population</th>\n",
       "      <td>0.360577</td>\n",
       "      <td>0.081600</td>\n",
       "      <td>-0.093265</td>\n",
       "      <td>0.925953</td>\n",
       "      <td>0.949000</td>\n",
       "      <td>1.000000</td>\n",
       "      <td>0.949153</td>\n",
       "      <td>0.095035</td>\n",
       "      <td>0.159171</td>\n",
       "    </tr>\n",
       "    <tr>\n",
       "      <th>households</th>\n",
       "      <td>0.401599</td>\n",
       "      <td>0.060933</td>\n",
       "      <td>-0.167641</td>\n",
       "      <td>0.888455</td>\n",
       "      <td>0.995437</td>\n",
       "      <td>0.949153</td>\n",
       "      <td>1.000000</td>\n",
       "      <td>0.111799</td>\n",
       "      <td>0.182885</td>\n",
       "    </tr>\n",
       "    <tr>\n",
       "      <th>median_income</th>\n",
       "      <td>0.593594</td>\n",
       "      <td>0.550010</td>\n",
       "      <td>0.077259</td>\n",
       "      <td>0.308664</td>\n",
       "      <td>0.085209</td>\n",
       "      <td>0.095035</td>\n",
       "      <td>0.111799</td>\n",
       "      <td>1.000000</td>\n",
       "      <td>0.612927</td>\n",
       "    </tr>\n",
       "    <tr>\n",
       "      <th>median_house_value</th>\n",
       "      <td>0.748607</td>\n",
       "      <td>0.397242</td>\n",
       "      <td>0.002230</td>\n",
       "      <td>0.277680</td>\n",
       "      <td>0.155500</td>\n",
       "      <td>0.159171</td>\n",
       "      <td>0.182885</td>\n",
       "      <td>0.612927</td>\n",
       "      <td>1.000000</td>\n",
       "    </tr>\n",
       "  </tbody>\n",
       "</table>\n",
       "</div>"
      ],
      "text/plain": [
       "                    longitude  latitude  housing_median_age  total_rooms  \\\n",
       "longitude            1.000000  0.563903            0.013050     0.484023   \n",
       "latitude             0.563903  1.000000            0.361931     0.267855   \n",
       "housing_median_age   0.013050  0.361931            1.000000    -0.064694   \n",
       "total_rooms          0.484023  0.267855           -0.064694     1.000000   \n",
       "total_bedrooms       0.374392  0.024315           -0.165130     0.879195   \n",
       "population           0.360577  0.081600           -0.093265     0.925953   \n",
       "households           0.401599  0.060933           -0.167641     0.888455   \n",
       "median_income        0.593594  0.550010            0.077259     0.308664   \n",
       "median_house_value   0.748607  0.397242            0.002230     0.277680   \n",
       "\n",
       "                    total_bedrooms  population  households  median_income  \\\n",
       "longitude                 0.374392    0.360577    0.401599       0.593594   \n",
       "latitude                  0.024315    0.081600    0.060933       0.550010   \n",
       "housing_median_age       -0.165130   -0.093265   -0.167641       0.077259   \n",
       "total_rooms               0.879195    0.925953    0.888455       0.308664   \n",
       "total_bedrooms            1.000000    0.949000    0.995437       0.085209   \n",
       "population                0.949000    1.000000    0.949153       0.095035   \n",
       "households                0.995437    0.949153    1.000000       0.111799   \n",
       "median_income             0.085209    0.095035    0.111799       1.000000   \n",
       "median_house_value        0.155500    0.159171    0.182885       0.612927   \n",
       "\n",
       "                    median_house_value  \n",
       "longitude                     0.748607  \n",
       "latitude                      0.397242  \n",
       "housing_median_age            0.002230  \n",
       "total_rooms                   0.277680  \n",
       "total_bedrooms                0.155500  \n",
       "population                    0.159171  \n",
       "households                    0.182885  \n",
       "median_income                 0.612927  \n",
       "median_house_value            1.000000  "
      ]
     },
     "execution_count": 63,
     "metadata": {},
     "output_type": "execute_result"
    }
   ],
   "source": [
    "data.loc[:100].corr()"
   ]
  },
  {
   "cell_type": "code",
   "execution_count": 64,
   "id": "ae2b77c9",
   "metadata": {},
   "outputs": [
    {
     "name": "stderr",
     "output_type": "stream",
     "text": [
      "C:\\Users\\codem\\AppData\\Local\\Temp\\ipykernel_6276\\3946427468.py:1: FutureWarning: The default value of numeric_only in DataFrame.corr is deprecated. In a future version, it will default to False. Select only valid columns or specify the value of numeric_only to silence this warning.\n",
      "  corr_matrix=data.corr()\n"
     ]
    },
    {
     "data": {
      "text/html": [
       "<div>\n",
       "<style scoped>\n",
       "    .dataframe tbody tr th:only-of-type {\n",
       "        vertical-align: middle;\n",
       "    }\n",
       "\n",
       "    .dataframe tbody tr th {\n",
       "        vertical-align: top;\n",
       "    }\n",
       "\n",
       "    .dataframe thead th {\n",
       "        text-align: right;\n",
       "    }\n",
       "</style>\n",
       "<table border=\"1\" class=\"dataframe\">\n",
       "  <thead>\n",
       "    <tr style=\"text-align: right;\">\n",
       "      <th></th>\n",
       "      <th>longitude</th>\n",
       "      <th>latitude</th>\n",
       "      <th>housing_median_age</th>\n",
       "      <th>total_rooms</th>\n",
       "      <th>total_bedrooms</th>\n",
       "      <th>population</th>\n",
       "      <th>households</th>\n",
       "      <th>median_income</th>\n",
       "      <th>median_house_value</th>\n",
       "    </tr>\n",
       "  </thead>\n",
       "  <tbody>\n",
       "    <tr>\n",
       "      <th>longitude</th>\n",
       "      <td>1.000000</td>\n",
       "      <td>-0.924664</td>\n",
       "      <td>-0.108197</td>\n",
       "      <td>0.044568</td>\n",
       "      <td>0.069608</td>\n",
       "      <td>0.099773</td>\n",
       "      <td>0.055310</td>\n",
       "      <td>-0.015176</td>\n",
       "      <td>-0.045967</td>\n",
       "    </tr>\n",
       "    <tr>\n",
       "      <th>latitude</th>\n",
       "      <td>-0.924664</td>\n",
       "      <td>1.000000</td>\n",
       "      <td>0.011173</td>\n",
       "      <td>-0.036100</td>\n",
       "      <td>-0.066983</td>\n",
       "      <td>-0.108785</td>\n",
       "      <td>-0.071035</td>\n",
       "      <td>-0.079809</td>\n",
       "      <td>-0.144160</td>\n",
       "    </tr>\n",
       "    <tr>\n",
       "      <th>housing_median_age</th>\n",
       "      <td>-0.108197</td>\n",
       "      <td>0.011173</td>\n",
       "      <td>1.000000</td>\n",
       "      <td>-0.361262</td>\n",
       "      <td>-0.320451</td>\n",
       "      <td>-0.296244</td>\n",
       "      <td>-0.302916</td>\n",
       "      <td>-0.119034</td>\n",
       "      <td>0.105623</td>\n",
       "    </tr>\n",
       "    <tr>\n",
       "      <th>total_rooms</th>\n",
       "      <td>0.044568</td>\n",
       "      <td>-0.036100</td>\n",
       "      <td>-0.361262</td>\n",
       "      <td>1.000000</td>\n",
       "      <td>0.930380</td>\n",
       "      <td>0.857126</td>\n",
       "      <td>0.918484</td>\n",
       "      <td>0.198050</td>\n",
       "      <td>0.134153</td>\n",
       "    </tr>\n",
       "    <tr>\n",
       "      <th>total_bedrooms</th>\n",
       "      <td>0.069608</td>\n",
       "      <td>-0.066983</td>\n",
       "      <td>-0.320451</td>\n",
       "      <td>0.930380</td>\n",
       "      <td>1.000000</td>\n",
       "      <td>0.877747</td>\n",
       "      <td>0.979728</td>\n",
       "      <td>-0.007723</td>\n",
       "      <td>0.049686</td>\n",
       "    </tr>\n",
       "    <tr>\n",
       "      <th>population</th>\n",
       "      <td>0.099773</td>\n",
       "      <td>-0.108785</td>\n",
       "      <td>-0.296244</td>\n",
       "      <td>0.857126</td>\n",
       "      <td>0.877747</td>\n",
       "      <td>1.000000</td>\n",
       "      <td>0.907222</td>\n",
       "      <td>0.004834</td>\n",
       "      <td>-0.024650</td>\n",
       "    </tr>\n",
       "    <tr>\n",
       "      <th>households</th>\n",
       "      <td>0.055310</td>\n",
       "      <td>-0.071035</td>\n",
       "      <td>-0.302916</td>\n",
       "      <td>0.918484</td>\n",
       "      <td>0.979728</td>\n",
       "      <td>0.907222</td>\n",
       "      <td>1.000000</td>\n",
       "      <td>0.013033</td>\n",
       "      <td>0.065843</td>\n",
       "    </tr>\n",
       "    <tr>\n",
       "      <th>median_income</th>\n",
       "      <td>-0.015176</td>\n",
       "      <td>-0.079809</td>\n",
       "      <td>-0.119034</td>\n",
       "      <td>0.198050</td>\n",
       "      <td>-0.007723</td>\n",
       "      <td>0.004834</td>\n",
       "      <td>0.013033</td>\n",
       "      <td>1.000000</td>\n",
       "      <td>0.688075</td>\n",
       "    </tr>\n",
       "    <tr>\n",
       "      <th>median_house_value</th>\n",
       "      <td>-0.045967</td>\n",
       "      <td>-0.144160</td>\n",
       "      <td>0.105623</td>\n",
       "      <td>0.134153</td>\n",
       "      <td>0.049686</td>\n",
       "      <td>-0.024650</td>\n",
       "      <td>0.065843</td>\n",
       "      <td>0.688075</td>\n",
       "      <td>1.000000</td>\n",
       "    </tr>\n",
       "  </tbody>\n",
       "</table>\n",
       "</div>"
      ],
      "text/plain": [
       "                    longitude  latitude  housing_median_age  total_rooms  \\\n",
       "longitude            1.000000 -0.924664           -0.108197     0.044568   \n",
       "latitude            -0.924664  1.000000            0.011173    -0.036100   \n",
       "housing_median_age  -0.108197  0.011173            1.000000    -0.361262   \n",
       "total_rooms          0.044568 -0.036100           -0.361262     1.000000   \n",
       "total_bedrooms       0.069608 -0.066983           -0.320451     0.930380   \n",
       "population           0.099773 -0.108785           -0.296244     0.857126   \n",
       "households           0.055310 -0.071035           -0.302916     0.918484   \n",
       "median_income       -0.015176 -0.079809           -0.119034     0.198050   \n",
       "median_house_value  -0.045967 -0.144160            0.105623     0.134153   \n",
       "\n",
       "                    total_bedrooms  population  households  median_income  \\\n",
       "longitude                 0.069608    0.099773    0.055310      -0.015176   \n",
       "latitude                 -0.066983   -0.108785   -0.071035      -0.079809   \n",
       "housing_median_age       -0.320451   -0.296244   -0.302916      -0.119034   \n",
       "total_rooms               0.930380    0.857126    0.918484       0.198050   \n",
       "total_bedrooms            1.000000    0.877747    0.979728      -0.007723   \n",
       "population                0.877747    1.000000    0.907222       0.004834   \n",
       "households                0.979728    0.907222    1.000000       0.013033   \n",
       "median_income            -0.007723    0.004834    0.013033       1.000000   \n",
       "median_house_value        0.049686   -0.024650    0.065843       0.688075   \n",
       "\n",
       "                    median_house_value  \n",
       "longitude                    -0.045967  \n",
       "latitude                     -0.144160  \n",
       "housing_median_age            0.105623  \n",
       "total_rooms                   0.134153  \n",
       "total_bedrooms                0.049686  \n",
       "population                   -0.024650  \n",
       "households                    0.065843  \n",
       "median_income                 0.688075  \n",
       "median_house_value            1.000000  "
      ]
     },
     "execution_count": 64,
     "metadata": {},
     "output_type": "execute_result"
    }
   ],
   "source": [
    "corr_matrix=data.corr()\n",
    "corr_matrix"
   ]
  },
  {
   "cell_type": "code",
   "execution_count": 65,
   "id": "29e1586f",
   "metadata": {},
   "outputs": [
    {
     "data": {
      "text/plain": [
       "longitude            -0.045967\n",
       "latitude             -0.144160\n",
       "housing_median_age    0.105623\n",
       "total_rooms           0.134153\n",
       "total_bedrooms        0.049686\n",
       "population           -0.024650\n",
       "households            0.065843\n",
       "median_income         0.688075\n",
       "median_house_value    1.000000\n",
       "Name: median_house_value, dtype: float64"
      ]
     },
     "execution_count": 65,
     "metadata": {},
     "output_type": "execute_result"
    }
   ],
   "source": [
    "corr_matrix['median_house_value']"
   ]
  },
  {
   "cell_type": "code",
   "execution_count": 66,
   "id": "9cef1550",
   "metadata": {},
   "outputs": [
    {
     "data": {
      "text/plain": [
       "median_house_value    1.000000\n",
       "median_income         0.688075\n",
       "total_rooms           0.134153\n",
       "housing_median_age    0.105623\n",
       "households            0.065843\n",
       "total_bedrooms        0.049686\n",
       "population           -0.024650\n",
       "longitude            -0.045967\n",
       "latitude             -0.144160\n",
       "Name: median_house_value, dtype: float64"
      ]
     },
     "execution_count": 66,
     "metadata": {},
     "output_type": "execute_result"
    }
   ],
   "source": [
    "corr_matrix['median_house_value'].sort_values(ascending=False)"
   ]
  },
  {
   "cell_type": "code",
   "execution_count": 67,
   "id": "45569bd1",
   "metadata": {},
   "outputs": [],
   "source": [
    "from pandas.plotting import scatter_matrix\n",
    "myvars = ['median_house_value','median_income','total_rooms','housing_median_age']"
   ]
  },
  {
   "cell_type": "code",
   "execution_count": 68,
   "id": "27c9a726",
   "metadata": {},
   "outputs": [
    {
     "data": {
      "text/plain": [
       "array([[<Axes: xlabel='median_house_value', ylabel='median_house_value'>,\n",
       "        <Axes: xlabel='median_income', ylabel='median_house_value'>,\n",
       "        <Axes: xlabel='total_rooms', ylabel='median_house_value'>,\n",
       "        <Axes: xlabel='housing_median_age', ylabel='median_house_value'>],\n",
       "       [<Axes: xlabel='median_house_value', ylabel='median_income'>,\n",
       "        <Axes: xlabel='median_income', ylabel='median_income'>,\n",
       "        <Axes: xlabel='total_rooms', ylabel='median_income'>,\n",
       "        <Axes: xlabel='housing_median_age', ylabel='median_income'>],\n",
       "       [<Axes: xlabel='median_house_value', ylabel='total_rooms'>,\n",
       "        <Axes: xlabel='median_income', ylabel='total_rooms'>,\n",
       "        <Axes: xlabel='total_rooms', ylabel='total_rooms'>,\n",
       "        <Axes: xlabel='housing_median_age', ylabel='total_rooms'>],\n",
       "       [<Axes: xlabel='median_house_value', ylabel='housing_median_age'>,\n",
       "        <Axes: xlabel='median_income', ylabel='housing_median_age'>,\n",
       "        <Axes: xlabel='total_rooms', ylabel='housing_median_age'>,\n",
       "        <Axes: xlabel='housing_median_age', ylabel='housing_median_age'>]],\n",
       "      dtype=object)"
      ]
     },
     "execution_count": 68,
     "metadata": {},
     "output_type": "execute_result"
    },
    {
     "data": {
      "image/png": "[encoded data removed]",
      "text/plain": [
       "<Figure size 640x480 with 16 Axes>"
      ]
     },
     "metadata": {},
     "output_type": "display_data"
    }
   ],
   "source": [
    "scatter_matrix(data[myvars])"
   ]
  },
  {
   "cell_type": "code",
   "execution_count": null,
   "id": "25f47ea0",
   "metadata": {},
   "outputs": [],
   "source": []
  }
 ],
 "metadata": {
  "kernelspec": {
   "display_name": "Python 3 (ipykernel)",
   "language": "python",
   "name": "python3"
  },
  "language_info": {
   "codemirror_mode": {
    "name": "ipython",
    "version": 3
   },
   "file_extension": ".py",
   "mimetype": "text/x-python",
   "name": "python",
   "nbconvert_exporter": "python",
   "pygments_lexer": "ipython3",
   "version": "3.10.9"
  }
 },
 "nbformat": 4,
 "nbformat_minor": 5
}
